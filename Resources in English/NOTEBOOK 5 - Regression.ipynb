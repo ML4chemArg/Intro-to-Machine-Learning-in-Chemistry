{
  "nbformat": 4,
  "nbformat_minor": 0,
  "metadata": {
    "colab": {
      "name": "NOTEBOOK 5 - Regression",
      "provenance": [],
      "collapsed_sections": []
    },
    "kernelspec": {
      "display_name": "Python 3",
      "name": "python3"
    },
    "widgets": {
      "application/vnd.jupyter.widget-state+json": {
        "713942e290414f97ba9e2ed92744800d": {
          "model_module": "@jupyter-widgets/controls",
          "model_name": "VBoxModel",
          "state": {
            "_view_name": "VBoxView",
            "_dom_classes": [
              "widget-interact"
            ],
            "_model_name": "VBoxModel",
            "_view_module": "@jupyter-widgets/controls",
            "_model_module_version": "1.5.0",
            "_view_count": null,
            "_view_module_version": "1.5.0",
            "box_style": "",
            "layout": "IPY_MODEL_72ba7b6484844302bd050a0700e58378",
            "_model_module": "@jupyter-widgets/controls",
            "children": [
              "IPY_MODEL_83660df5d0884e8f80099106b18eb3eb",
              "IPY_MODEL_b9ed2d916f1c4b84b31e43beb9854623"
            ]
          }
        },
        "72ba7b6484844302bd050a0700e58378": {
          "model_module": "@jupyter-widgets/base",
          "model_name": "LayoutModel",
          "state": {
            "_view_name": "LayoutView",
            "grid_template_rows": null,
            "right": null,
            "justify_content": null,
            "_view_module": "@jupyter-widgets/base",
            "overflow": null,
            "_model_module_version": "1.2.0",
            "_view_count": null,
            "flex_flow": null,
            "width": null,
            "min_width": null,
            "border": null,
            "align_items": null,
            "bottom": null,
            "_model_module": "@jupyter-widgets/base",
            "top": null,
            "grid_column": null,
            "overflow_y": null,
            "overflow_x": null,
            "grid_auto_flow": null,
            "grid_area": null,
            "grid_template_columns": null,
            "flex": null,
            "_model_name": "LayoutModel",
            "justify_items": null,
            "grid_row": null,
            "max_height": null,
            "align_content": null,
            "visibility": null,
            "align_self": null,
            "height": null,
            "min_height": null,
            "padding": null,
            "grid_auto_rows": null,
            "grid_gap": null,
            "max_width": null,
            "order": null,
            "_view_module_version": "1.2.0",
            "grid_template_areas": null,
            "object_position": null,
            "object_fit": null,
            "grid_auto_columns": null,
            "margin": null,
            "display": null,
            "left": null
          }
        },
        "83660df5d0884e8f80099106b18eb3eb": {
          "model_module": "@jupyter-widgets/controls",
          "model_name": "DropdownModel",
          "state": {
            "_options_labels": [
              "fixed acidity",
              "volatile acidity",
              "citric acid",
              "residual sugar",
              "chlorides",
              "free sulfur dioxide",
              "total sulfur dioxide",
              "density",
              "pH",
              "sulphates",
              "alcohol",
              "quality"
            ],
            "_view_name": "DropdownView",
            "style": "IPY_MODEL_139842a737cd48168151e00be54b1bfa",
            "_dom_classes": [],
            "description": "Predictor_Var",
            "_model_name": "DropdownModel",
            "index": 0,
            "_view_module": "@jupyter-widgets/controls",
            "_model_module_version": "1.5.0",
            "_view_count": null,
            "disabled": false,
            "_view_module_version": "1.5.0",
            "description_tooltip": null,
            "_model_module": "@jupyter-widgets/controls",
            "layout": "IPY_MODEL_3733d43a61b14ce8b379d067415fd84a"
          }
        },
        "b9ed2d916f1c4b84b31e43beb9854623": {
          "model_module": "@jupyter-widgets/output",
          "model_name": "OutputModel",
          "state": {
            "_view_name": "OutputView",
            "msg_id": "",
            "_dom_classes": [],
            "_model_name": "OutputModel",
            "outputs": [
              {
                "output_type": "stream",
                "metadata": {
                  "tags": []
                },
                "text": "Corr Coef =  0.2653310138391863\n",
                "stream": "stdout"
              },
              {
                "output_type": "display_data",
                "metadata": {
                  "tags": [],
                  "needs_background": "light"
                },
                "image/png": "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\n",
                "text/plain": "<Figure size 432x288 with 1 Axes>"
              }
            ],
            "_view_module": "@jupyter-widgets/output",
            "_model_module_version": "1.0.0",
            "_view_count": null,
            "_view_module_version": "1.0.0",
            "layout": "IPY_MODEL_a938a929602e4654ae7fd927ddee304b",
            "_model_module": "@jupyter-widgets/output"
          }
        },
        "139842a737cd48168151e00be54b1bfa": {
          "model_module": "@jupyter-widgets/controls",
          "model_name": "DescriptionStyleModel",
          "state": {
            "_view_name": "StyleView",
            "_model_name": "DescriptionStyleModel",
            "description_width": "",
            "_view_module": "@jupyter-widgets/base",
            "_model_module_version": "1.5.0",
            "_view_count": null,
            "_view_module_version": "1.2.0",
            "_model_module": "@jupyter-widgets/controls"
          }
        },
        "3733d43a61b14ce8b379d067415fd84a": {
          "model_module": "@jupyter-widgets/base",
          "model_name": "LayoutModel",
          "state": {
            "_view_name": "LayoutView",
            "grid_template_rows": null,
            "right": null,
            "justify_content": null,
            "_view_module": "@jupyter-widgets/base",
            "overflow": null,
            "_model_module_version": "1.2.0",
            "_view_count": null,
            "flex_flow": null,
            "width": null,
            "min_width": null,
            "border": null,
            "align_items": null,
            "bottom": null,
            "_model_module": "@jupyter-widgets/base",
            "top": null,
            "grid_column": null,
            "overflow_y": null,
            "overflow_x": null,
            "grid_auto_flow": null,
            "grid_area": null,
            "grid_template_columns": null,
            "flex": null,
            "_model_name": "LayoutModel",
            "justify_items": null,
            "grid_row": null,
            "max_height": null,
            "align_content": null,
            "visibility": null,
            "align_self": null,
            "height": null,
            "min_height": null,
            "padding": null,
            "grid_auto_rows": null,
            "grid_gap": null,
            "max_width": null,
            "order": null,
            "_view_module_version": "1.2.0",
            "grid_template_areas": null,
            "object_position": null,
            "object_fit": null,
            "grid_auto_columns": null,
            "margin": null,
            "display": null,
            "left": null
          }
        },
        "a938a929602e4654ae7fd927ddee304b": {
          "model_module": "@jupyter-widgets/base",
          "model_name": "LayoutModel",
          "state": {
            "_view_name": "LayoutView",
            "grid_template_rows": null,
            "right": null,
            "justify_content": null,
            "_view_module": "@jupyter-widgets/base",
            "overflow": null,
            "_model_module_version": "1.2.0",
            "_view_count": null,
            "flex_flow": null,
            "width": null,
            "min_width": null,
            "border": null,
            "align_items": null,
            "bottom": null,
            "_model_module": "@jupyter-widgets/base",
            "top": null,
            "grid_column": null,
            "overflow_y": null,
            "overflow_x": null,
            "grid_auto_flow": null,
            "grid_area": null,
            "grid_template_columns": null,
            "flex": null,
            "_model_name": "LayoutModel",
            "justify_items": null,
            "grid_row": null,
            "max_height": null,
            "align_content": null,
            "visibility": null,
            "align_self": null,
            "height": null,
            "min_height": null,
            "padding": null,
            "grid_auto_rows": null,
            "grid_gap": null,
            "max_width": null,
            "order": null,
            "_view_module_version": "1.2.0",
            "grid_template_areas": null,
            "object_position": null,
            "object_fit": null,
            "grid_auto_columns": null,
            "margin": null,
            "display": null,
            "left": null
          }
        },
        "b6eba8bdc2664ae4bcf130a4dc3b288a": {
          "model_module": "@jupyter-widgets/controls",
          "model_name": "VBoxModel",
          "state": {
            "_view_name": "VBoxView",
            "_dom_classes": [
              "widget-interact"
            ],
            "_model_name": "VBoxModel",
            "_view_module": "@jupyter-widgets/controls",
            "_model_module_version": "1.5.0",
            "_view_count": null,
            "_view_module_version": "1.5.0",
            "box_style": "",
            "layout": "IPY_MODEL_5ff86f437cd5411a9a5da4e008edd4e0",
            "_model_module": "@jupyter-widgets/controls",
            "children": [
              "IPY_MODEL_dc16b2e593df483e92b38349f0f1e65e",
              "IPY_MODEL_5e4adb97b23b447cbfdc7fbb8395cb6b"
            ]
          }
        },
        "5ff86f437cd5411a9a5da4e008edd4e0": {
          "model_module": "@jupyter-widgets/base",
          "model_name": "LayoutModel",
          "state": {
            "_view_name": "LayoutView",
            "grid_template_rows": null,
            "right": null,
            "justify_content": null,
            "_view_module": "@jupyter-widgets/base",
            "overflow": null,
            "_model_module_version": "1.2.0",
            "_view_count": null,
            "flex_flow": null,
            "width": null,
            "min_width": null,
            "border": null,
            "align_items": null,
            "bottom": null,
            "_model_module": "@jupyter-widgets/base",
            "top": null,
            "grid_column": null,
            "overflow_y": null,
            "overflow_x": null,
            "grid_auto_flow": null,
            "grid_area": null,
            "grid_template_columns": null,
            "flex": null,
            "_model_name": "LayoutModel",
            "justify_items": null,
            "grid_row": null,
            "max_height": null,
            "align_content": null,
            "visibility": null,
            "align_self": null,
            "height": null,
            "min_height": null,
            "padding": null,
            "grid_auto_rows": null,
            "grid_gap": null,
            "max_width": null,
            "order": null,
            "_view_module_version": "1.2.0",
            "grid_template_areas": null,
            "object_position": null,
            "object_fit": null,
            "grid_auto_columns": null,
            "margin": null,
            "display": null,
            "left": null
          }
        },
        "dc16b2e593df483e92b38349f0f1e65e": {
          "model_module": "@jupyter-widgets/controls",
          "model_name": "FloatLogSliderModel",
          "state": {
            "_view_name": "FloatLogSliderView",
            "orientation": "horizontal",
            "_view_module": "@jupyter-widgets/controls",
            "_model_module_version": "1.5.0",
            "_view_count": null,
            "disabled": false,
            "readout_format": ".3g",
            "_model_module": "@jupyter-widgets/controls",
            "style": "IPY_MODEL_cf40f1bd596b46e0bb01de0cb794409f",
            "layout": "IPY_MODEL_4642dde69a124b86acfcd99b6f9feead",
            "min": -5,
            "continuous_update": true,
            "description_tooltip": null,
            "_dom_classes": [],
            "description": "alpha",
            "_model_name": "FloatLogSliderModel",
            "max": -2,
            "readout": true,
            "step": 0.25,
            "base": 10,
            "value": 0.001,
            "_view_module_version": "1.5.0"
          }
        },
        "5e4adb97b23b447cbfdc7fbb8395cb6b": {
          "model_module": "@jupyter-widgets/output",
          "model_name": "OutputModel",
          "state": {
            "_view_name": "OutputView",
            "msg_id": "",
            "_dom_classes": [],
            "_model_name": "OutputModel",
            "outputs": [
              {
                "output_type": "display_data",
                "metadata": {
                  "tags": [],
                  "needs_background": "light"
                },
                "image/png": "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\n",
                "text/plain": "<Figure size 720x432 with 2 Axes>"
              }
            ],
            "_view_module": "@jupyter-widgets/output",
            "_model_module_version": "1.0.0",
            "_view_count": null,
            "_view_module_version": "1.0.0",
            "layout": "IPY_MODEL_62c64ae9873e497390b8f18eb63bc91c",
            "_model_module": "@jupyter-widgets/output"
          }
        },
        "cf40f1bd596b46e0bb01de0cb794409f": {
          "model_module": "@jupyter-widgets/controls",
          "model_name": "SliderStyleModel",
          "state": {
            "_view_name": "StyleView",
            "handle_color": null,
            "_model_name": "SliderStyleModel",
            "description_width": "",
            "_view_module": "@jupyter-widgets/base",
            "_model_module_version": "1.5.0",
            "_view_count": null,
            "_view_module_version": "1.2.0",
            "_model_module": "@jupyter-widgets/controls"
          }
        },
        "4642dde69a124b86acfcd99b6f9feead": {
          "model_module": "@jupyter-widgets/base",
          "model_name": "LayoutModel",
          "state": {
            "_view_name": "LayoutView",
            "grid_template_rows": null,
            "right": null,
            "justify_content": null,
            "_view_module": "@jupyter-widgets/base",
            "overflow": null,
            "_model_module_version": "1.2.0",
            "_view_count": null,
            "flex_flow": null,
            "width": null,
            "min_width": null,
            "border": null,
            "align_items": null,
            "bottom": null,
            "_model_module": "@jupyter-widgets/base",
            "top": null,
            "grid_column": null,
            "overflow_y": null,
            "overflow_x": null,
            "grid_auto_flow": null,
            "grid_area": null,
            "grid_template_columns": null,
            "flex": null,
            "_model_name": "LayoutModel",
            "justify_items": null,
            "grid_row": null,
            "max_height": null,
            "align_content": null,
            "visibility": null,
            "align_self": null,
            "height": null,
            "min_height": null,
            "padding": null,
            "grid_auto_rows": null,
            "grid_gap": null,
            "max_width": null,
            "order": null,
            "_view_module_version": "1.2.0",
            "grid_template_areas": null,
            "object_position": null,
            "object_fit": null,
            "grid_auto_columns": null,
            "margin": null,
            "display": null,
            "left": null
          }
        },
        "62c64ae9873e497390b8f18eb63bc91c": {
          "model_module": "@jupyter-widgets/base",
          "model_name": "LayoutModel",
          "state": {
            "_view_name": "LayoutView",
            "grid_template_rows": null,
            "right": null,
            "justify_content": null,
            "_view_module": "@jupyter-widgets/base",
            "overflow": null,
            "_model_module_version": "1.2.0",
            "_view_count": null,
            "flex_flow": null,
            "width": null,
            "min_width": null,
            "border": null,
            "align_items": null,
            "bottom": null,
            "_model_module": "@jupyter-widgets/base",
            "top": null,
            "grid_column": null,
            "overflow_y": null,
            "overflow_x": null,
            "grid_auto_flow": null,
            "grid_area": null,
            "grid_template_columns": null,
            "flex": null,
            "_model_name": "LayoutModel",
            "justify_items": null,
            "grid_row": null,
            "max_height": null,
            "align_content": null,
            "visibility": null,
            "align_self": null,
            "height": null,
            "min_height": null,
            "padding": null,
            "grid_auto_rows": null,
            "grid_gap": null,
            "max_width": null,
            "order": null,
            "_view_module_version": "1.2.0",
            "grid_template_areas": null,
            "object_position": null,
            "object_fit": null,
            "grid_auto_columns": null,
            "margin": null,
            "display": null,
            "left": null
          }
        }
      }
    }
  },
  "cells": [
    {
      "cell_type": "markdown",
      "metadata": {
        "id": "oXOmuw5JYEcr"
      },
      "source": [
        "#NOTEBOOK 5: Regression\n",
        "In this notebook, we will focus on predicting the density of the wine using the other measurements. First, we will find correlations between density and the other variables. Then, we will use the classical univariate linear regression approach to predict density using just one predictor variable. Lastly, we will employ several multivariable machine learning regression techniques and compare them using performance metrics.\n",
        "\n"
      ]
    },
    {
      "cell_type": "markdown",
      "metadata": {
        "id": "XHUTlSbeYPgG"
      },
      "source": [
        "## Table of Contents\n",
        "---"
      ]
    },
    {
      "cell_type": "markdown",
      "metadata": {
        "id": "K2nZatEPEYfl"
      },
      "source": [
        "* [Correlations](#Correlations)\n",
        "* [Linear Regression](#Linear_Regression)\n",
        "* [Multiple Linear Regression](#Multiple_Linear_Regression)\n",
        "* [Scaling](#Scaling)\n",
        "* [LASSO](#Lasso)\n",
        "\n",
        "\n"
      ]
    },
    {
      "cell_type": "markdown",
      "metadata": {
        "id": "c_gi1GrDDkPD"
      },
      "source": [
        "# Correlations\n",
        "---"
      ]
    },
    {
      "cell_type": "markdown",
      "metadata": {
        "id": "YtSisP67YGTv"
      },
      "source": [
        "To fit the data with a linear model regression, it is a good practice to employ variables presenting a high correlation with the target. One way to do this is by calculating correlation coefficients and another way is through visual methods.\n",
        "\n",
        "We will predict the density for red wines, so we import the data and then inspect the dataset."
      ]
    },
    {
      "cell_type": "code",
      "metadata": {
        "id": "e7Ul9Zw8gbhz"
      },
      "source": [
        "import pandas as pd\n",
        "import numpy as np\n",
        "import seaborn as sns\n",
        "import matplotlib.pyplot as plt\n",
        "\n",
        "df=pd.read_csv(\"https://archive.ics.uci.edu/ml/machine-learning-databases/wine-quality/winequality-white.csv\", delimiter=\";\")"
      ],
      "execution_count": null,
      "outputs": []
    },
    {
      "cell_type": "markdown",
      "metadata": {
        "id": "azEql8f3qLt7"
      },
      "source": [
        "We can use the **corr** from Pandas to calculate the pairwise correlation of dataset columns. For more information, please visit the [documentation](https://pandas.pydata.org/pandas-docs/stable/reference/api/pandas.DataFrame.corr.html 'pandas.DataFrame.corr')"
      ]
    },
    {
      "cell_type": "code",
      "metadata": {
        "colab": {
          "base_uri": "https://localhost:8080/"
        },
        "id": "992t5q-ZDlID",
        "outputId": "767a9a86-118c-4371-e50a-e857b479374b"
      },
      "source": [
        "correlations = df.corr()['density'].drop(['quality', 'density'])\n",
        "print(correlations)"
      ],
      "execution_count": null,
      "outputs": [
        {
          "output_type": "stream",
          "text": [
            "fixed acidity           0.265331\n",
            "volatile acidity        0.027114\n",
            "citric acid             0.149503\n",
            "residual sugar          0.838966\n",
            "chlorides               0.257211\n",
            "free sulfur dioxide     0.294210\n",
            "total sulfur dioxide    0.529881\n",
            "pH                     -0.093591\n",
            "sulphates               0.074493\n",
            "alcohol                -0.780138\n",
            "Name: density, dtype: float64\n"
          ],
          "name": "stdout"
        }
      ]
    },
    {
      "cell_type": "markdown",
      "metadata": {
        "id": "Ruj7tKOXq9vQ"
      },
      "source": [
        "Another way is making an interactive graph with ipywidgets that allows us to visualize the different correlations."
      ]
    },
    {
      "cell_type": "code",
      "metadata": {
        "colab": {
          "base_uri": "https://localhost:8080/",
          "height": 328,
          "referenced_widgets": [
            "713942e290414f97ba9e2ed92744800d",
            "72ba7b6484844302bd050a0700e58378",
            "83660df5d0884e8f80099106b18eb3eb",
            "b9ed2d916f1c4b84b31e43beb9854623",
            "139842a737cd48168151e00be54b1bfa",
            "3733d43a61b14ce8b379d067415fd84a",
            "a938a929602e4654ae7fd927ddee304b"
          ]
        },
        "id": "y-j572WHf6BX",
        "outputId": "75038bdf-316c-45fe-9954-d876145e9c51"
      },
      "source": [
        "import ipywidgets as widgets\n",
        "from IPython.display import display\n",
        "\n",
        "Predictor_Var = list(df.columns)\n",
        "\n",
        "def CorrVis(Predictor_Var):\n",
        "  plt.scatter(df['density'],df[Predictor_Var])\n",
        "  plt.xlabel('Density')\n",
        "  plt.ylabel(Predictor_Var)\n",
        "  print('Corr Coef = ', np.corrcoef(df['density'],df[Predictor_Var])[0,1])\n",
        "\n",
        "widgets.interactive(CorrVis, Predictor_Var = list(df.columns))"
      ],
      "execution_count": null,
      "outputs": [
        {
          "output_type": "display_data",
          "data": {
            "application/vnd.jupyter.widget-view+json": {
              "model_id": "713942e290414f97ba9e2ed92744800d",
              "version_minor": 0,
              "version_major": 2
            },
            "text/plain": [
              "interactive(children=(Dropdown(description='Predictor_Var', options=('fixed acidity', 'volatile acidity', 'cit…"
            ]
          },
          "metadata": {
            "tags": []
          }
        }
      ]
    },
    {
      "cell_type": "markdown",
      "metadata": {
        "id": "Hv6vU1vtaZi5"
      },
      "source": [
        "#Linear Regression\n",
        "---"
      ]
    },
    {
      "cell_type": "markdown",
      "metadata": {
        "id": "2s66Io-mlDxH"
      },
      "source": [
        "In this section, we will perform a linear regression using alcohol as the predictor variable ($x_i$) and density as the target ($y_i$), according to the model:\n",
        "\n",
        "$\n",
        "y_i = β_1 x_i + β_0\n",
        "$\n",
        "\n",
        "We will split the data into training and test sets, which is commonly done in machine learning methods for validation of the model created. For more information, please visit the [documentation](https://scikit-learn.org/stable/modules/generated/sklearn.model_selection.train_test_split.html 'sklearn.model_selection.train_test_split')."
      ]
    },
    {
      "cell_type": "code",
      "metadata": {
        "id": "0P8Bv-Amgo-S"
      },
      "source": [
        "from sklearn.model_selection import train_test_split\n",
        "\n",
        "X = df[['alcohol']]\n",
        "y = df['density']\n",
        "\n",
        "X_train, X_test, y_train, y_test = train_test_split(X, y, test_size=0.33, random_state=42)"
      ],
      "execution_count": null,
      "outputs": []
    },
    {
      "cell_type": "markdown",
      "metadata": {
        "id": "-UsXDn1z3A2z"
      },
      "source": [
        "We first import the library to perform the linear regression and define which is the predictor variable and the target. For more information, please visit the [documentation](https://scikit-learn.org/stable/modules/generated/sklearn.linear_model.LinearRegression.html 'sklearn.linear_model.LinearRegression')."
      ]
    },
    {
      "cell_type": "code",
      "metadata": {
        "colab": {
          "base_uri": "https://localhost:8080/"
        },
        "id": "kOC2tM96hJ2H",
        "outputId": "928fb476-8274-4985-ccde-1d20230cff5f"
      },
      "source": [
        "from sklearn.linear_model import LinearRegression\n",
        "\n",
        "linear_regression = LinearRegression()\n",
        "linear_regression.fit(X = X_train, y = y_train)"
      ],
      "execution_count": null,
      "outputs": [
        {
          "output_type": "execute_result",
          "data": {
            "text/plain": [
              "LinearRegression(copy_X=True, fit_intercept=True, n_jobs=None, normalize=False)"
            ]
          },
          "metadata": {
            "tags": []
          },
          "execution_count": 5
        }
      ]
    },
    {
      "cell_type": "markdown",
      "metadata": {
        "id": "zaxEYz2UvGtA"
      },
      "source": [
        "Let's print the parameters of the linear regression."
      ]
    },
    {
      "cell_type": "code",
      "metadata": {
        "colab": {
          "base_uri": "https://localhost:8080/"
        },
        "id": "vz7NbeFmkTIo",
        "outputId": "12db8fbe-738c-449f-ecdc-57a911ff5138"
      },
      "source": [
        "print('β1 = ' + str(linear_regression.coef_) + ', β0 = ' + str(linear_regression.intercept_))"
      ],
      "execution_count": null,
      "outputs": [
        {
          "output_type": "stream",
          "text": [
            "β1 = [-0.00190561], β0 = 1.01408716780891\n"
          ],
          "name": "stdout"
        }
      ]
    },
    {
      "cell_type": "markdown",
      "metadata": {
        "id": "eqvRQzH4vZP6"
      },
      "source": [
        "We can quantify how good the adjustment was by using the $R^2$ parameter. For more information, please visit the [documentation](https://scikit-learn.org/stable/modules/model_evaluation.html#regression-metrics 'Regression metrics') \n",
        "\n",
        "$\n",
        "R^2 =1- \\frac{\\sum{ (y_i-\\hat{y})^2}}{\\sum{(y_i-\\overline{y})^2}}\n",
        "$\n",
        "\n",
        "The adjustments usually are better on the training sets than the test sets, but in this case, we will find that the training set has some outliers that make this adjustment for the training set worse."
      ]
    },
    {
      "cell_type": "code",
      "metadata": {
        "colab": {
          "base_uri": "https://localhost:8080/"
        },
        "id": "EXhPWi6HlGDN",
        "outputId": "5f0e6969-6072-447a-f4ae-05e55b741c92"
      },
      "source": [
        "from sklearn.metrics import r2_score\n",
        "y_pred_test = linear_regression.predict(X_test)\n",
        "y_pred_train = linear_regression.predict(X_train)\n",
        "\n",
        "print('R2 train = ', r2_score(y_train, y_pred_train))\n",
        "print('R2 test = ', r2_score(y_test, y_pred_test))\n"
      ],
      "execution_count": null,
      "outputs": [
        {
          "output_type": "stream",
          "text": [
            "R2 train =  0.5926508722924497\n",
            "R2 test =  0.6447778031152053\n"
          ],
          "name": "stdout"
        }
      ]
    },
    {
      "cell_type": "markdown",
      "metadata": {
        "id": "HLKkU8jlx_Xq"
      },
      "source": [
        "One way to visualize how good the adjustment was is to plot the predicted value against the actual value."
      ]
    },
    {
      "cell_type": "code",
      "metadata": {
        "colab": {
          "base_uri": "https://localhost:8080/",
          "height": 296
        },
        "id": "Ud_geEexPGAJ",
        "outputId": "7acf37a9-b527-45a6-960b-3b19534d6ec7"
      },
      "source": [
        "plt.scatter(y_train,y_pred_train, label='Training Set')\n",
        "plt.scatter(y_test,y_pred_test, label='Test Set')\n",
        "plt.xlabel('Real')\n",
        "plt.ylabel('Predicted')\n",
        "plt.legend()\n"
      ],
      "execution_count": null,
      "outputs": [
        {
          "output_type": "execute_result",
          "data": {
            "text/plain": [
              "<matplotlib.legend.Legend at 0x7fb383089588>"
            ]
          },
          "metadata": {
            "tags": []
          },
          "execution_count": 8
        },
        {
          "output_type": "display_data",
          "data": {
            "image/png": "[encoded data removed]",
            "text/plain": [
              "<Figure size 432x288 with 1 Axes>"
            ]
          },
          "metadata": {
            "tags": [],
            "needs_background": "light"
          }
        }
      ]
    },
    {
      "cell_type": "markdown",
      "metadata": {
        "id": "XiMNw1AVakPQ"
      },
      "source": [
        "#Multiple Linear Regression\n",
        "---"
      ]
    },
    {
      "cell_type": "markdown",
      "metadata": {
        "id": "-TQCrv3pMX9q"
      },
      "source": [
        "Multiple linear regression (MLR) is a generalization of classical linear regression. MLR models a linear relationship between the target response and multiple explanatory variables.\n",
        "\n",
        "$y_i =β_0​\t +β_1\t x_{i1}​\t + β_2 x_{i2}​\t +...+ β_p​\t x_{ip}​\n",
        "$"
      ]
    },
    {
      "cell_type": "code",
      "metadata": {
        "id": "AkOjtIPhhnfi"
      },
      "source": [
        "from sklearn.model_selection import train_test_split\n",
        "\n",
        "X = df.drop(['quality', 'density'], axis=1)\n",
        "y = df['density']\n",
        "\n",
        "X_train, X_test, y_train, y_test = train_test_split(X, y, test_size=0.33, random_state=42)"
      ],
      "execution_count": null,
      "outputs": []
    },
    {
      "cell_type": "markdown",
      "metadata": {
        "id": "FbN7my680Zub"
      },
      "source": [
        "Since MLR is a generalization, the **Scikit Learn** library uses the same function that we used before."
      ]
    },
    {
      "cell_type": "code",
      "metadata": {
        "colab": {
          "base_uri": "https://localhost:8080/"
        },
        "id": "htucZvq3aHLC",
        "outputId": "b0d8f1df-0105-42be-dd20-ee477c198903"
      },
      "source": [
        "from sklearn.linear_model import LinearRegression\n",
        "\n",
        "multiple_linear_regression = LinearRegression()\n",
        "multiple_linear_regression.fit(X = X_train, y = y_train)"
      ],
      "execution_count": null,
      "outputs": [
        {
          "output_type": "execute_result",
          "data": {
            "text/plain": [
              "LinearRegression(copy_X=True, fit_intercept=True, n_jobs=None, normalize=False)"
            ]
          },
          "metadata": {
            "tags": []
          },
          "execution_count": 10
        }
      ]
    },
    {
      "cell_type": "markdown",
      "metadata": {
        "id": "tjI4z6TK08AF"
      },
      "source": [
        "Increasing the number of predictor variables leads to a better adjustment of the target so that the value of $R^2$ increases."
      ]
    },
    {
      "cell_type": "code",
      "metadata": {
        "colab": {
          "base_uri": "https://localhost:8080/"
        },
        "id": "2V0C9Abnj6j8",
        "outputId": "b0e56ce3-7373-4fc5-bc04-90f00f403398"
      },
      "source": [
        "from sklearn.metrics import r2_score\n",
        "\n",
        "pred_train_lr = multiple_linear_regression.predict(X_train)\n",
        "pred_test_lr = multiple_linear_regression.predict(X_test)\n",
        "\n",
        "print('R2 training = ', r2_score(y_train, pred_train_lr))\n",
        "print('R2 test = ', r2_score(y_test, pred_test_lr))"
      ],
      "execution_count": null,
      "outputs": [
        {
          "output_type": "stream",
          "text": [
            "R2 training =  0.9608334119853046\n",
            "R2 test =  0.9724221101555637\n"
          ],
          "name": "stdout"
        }
      ]
    },
    {
      "cell_type": "markdown",
      "metadata": {
        "id": "YjUPKxLk7dcE"
      },
      "source": [
        "Another useful metric is $RSME$. It has the advantage that it can be used for non-linear models. For more information, please visit the [documentation](https://scikit-learn.org/stable/modules/model_evaluation.html#regression-metrics 'Regression metrics').\n",
        "\n",
        "$\n",
        "RMSE =\\sqrt{ \\frac{1}{n} \\sum{(y_i - \\hat{y})^2}}\n",
        "$"
      ]
    },
    {
      "cell_type": "code",
      "metadata": {
        "colab": {
          "base_uri": "https://localhost:8080/"
        },
        "id": "nlLaztfF7dpC",
        "outputId": "46b16898-f77f-4a92-de5b-6fda2ab39397"
      },
      "source": [
        "from sklearn.metrics import mean_squared_error\n",
        "rmse_test = np.sqrt(mean_squared_error(y_test,pred_test_lr))\n",
        "print('RSME test= ', rmse_test)"
      ],
      "execution_count": null,
      "outputs": [
        {
          "output_type": "stream",
          "text": [
            "RSME test=  0.00047624213322230194\n"
          ],
          "name": "stdout"
        }
      ]
    },
    {
      "cell_type": "markdown",
      "metadata": {
        "id": "r73gPeLh4xWe"
      },
      "source": [
        "Again, we can use a graph to compare the training and test set."
      ]
    },
    {
      "cell_type": "code",
      "metadata": {
        "colab": {
          "base_uri": "https://localhost:8080/",
          "height": 296
        },
        "id": "8z2CE37nQekx",
        "outputId": "17722706-816b-4739-e71f-5a3e4af2391f"
      },
      "source": [
        "plt.scatter(y_train,pred_train_lr, label='Training Set')\n",
        "plt.scatter(y_test,pred_test_lr, label='Test Set')\n",
        "\n",
        "plt.xlabel('Real')\n",
        "plt.ylabel('Predicted')\n",
        "plt.legend()"
      ],
      "execution_count": null,
      "outputs": [
        {
          "output_type": "execute_result",
          "data": {
            "text/plain": [
              "<matplotlib.legend.Legend at 0x7fb383010080>"
            ]
          },
          "metadata": {
            "tags": []
          },
          "execution_count": 13
        },
        {
          "output_type": "display_data",
          "data": {
            "image/png": "[encoded data removed]",
            "text/plain": [
              "<Figure size 432x288 with 1 Axes>"
            ]
          },
          "metadata": {
            "tags": [],
            "needs_background": "light"
          }
        }
      ]
    },
    {
      "cell_type": "markdown",
      "metadata": {
        "id": "rv-53KG35LEP"
      },
      "source": [
        "Let's analyze the coefficients of the MLR and pay attention to their magnitude. It seems difficult to conclude anything about their importance."
      ]
    },
    {
      "cell_type": "code",
      "metadata": {
        "colab": {
          "base_uri": "https://localhost:8080/"
        },
        "id": "gt3E5fKFEXXq",
        "outputId": "a1f003a7-998d-4923-abc1-0e33f7aed09c"
      },
      "source": [
        "coefficients = pd.DataFrame(multiple_linear_regression.coef_,X.columns.tolist())\n",
        "coefficients.columns = ['Coefficients'] \n",
        "print(coefficients)"
      ],
      "execution_count": null,
      "outputs": [
        {
          "output_type": "stream",
          "text": [
            "                      Coeffecient\n",
            "fixed acidity            0.000784\n",
            "volatile acidity         0.000808\n",
            "citric acid              0.000347\n",
            "residual sugar           0.000380\n",
            "chlorides                0.005043\n",
            "free sulfur dioxide     -0.000007\n",
            "total sulfur dioxide     0.000004\n",
            "pH                       0.003579\n",
            "sulphates                0.001487\n",
            "alcohol                 -0.001112\n"
          ],
          "name": "stdout"
        }
      ]
    },
    {
      "cell_type": "code",
      "metadata": {
        "colab": {
          "base_uri": "https://localhost:8080/",
          "height": 366
        },
        "id": "7NmV3868IOuw",
        "outputId": "46c034ab-dc19-436e-db60-4c2828f6992d"
      },
      "source": [
        "coefficients.plot.bar()"
      ],
      "execution_count": null,
      "outputs": [
        {
          "output_type": "execute_result",
          "data": {
            "text/plain": [
              "<matplotlib.axes._subplots.AxesSubplot at 0x7fb37a720160>"
            ]
          },
          "metadata": {
            "tags": []
          },
          "execution_count": 15
        },
        {
          "output_type": "display_data",
          "data": {
            "image/png": "[encoded data removed]",
            "text/plain": [
              "<Figure size 432x288 with 1 Axes>"
            ]
          },
          "metadata": {
            "tags": [],
            "needs_background": "light"
          }
        }
      ]
    },
    {
      "cell_type": "markdown",
      "metadata": {
        "id": "eiCPdPpQ3XsM"
      },
      "source": [
        "#Standardization\n",
        "---"
      ]
    },
    {
      "cell_type": "markdown",
      "metadata": {
        "id": "3MUqgQCK-Gxf"
      },
      "source": [
        "The standardization is a method to transform the different predictor variables into comparable ranges. Using standardized data, a higher coefficient indicates that it is a predictor variable that has more importance to predict the target."
      ]
    },
    {
      "cell_type": "code",
      "metadata": {
        "id": "D6cbJJpw3b1j"
      },
      "source": [
        "from sklearn.model_selection import train_test_split\n",
        "\n",
        "X = df.drop(['quality', 'density'], axis=1)\n",
        "y = df['density']\n",
        "\n",
        "X_train, X_test, y_train, y_test = train_test_split(X, y, test_size=0.33, random_state=42)"
      ],
      "execution_count": null,
      "outputs": []
    },
    {
      "cell_type": "markdown",
      "metadata": {
        "id": "aiqx1u3qH3rk"
      },
      "source": [
        "Standardizing after splitting the dataset is a way to avoid bias."
      ]
    },
    {
      "cell_type": "code",
      "metadata": {
        "id": "vzuKE6ocGPZ7"
      },
      "source": [
        "from sklearn import preprocessing\n",
        "\n",
        "scaler = preprocessing.StandardScaler()\n",
        "scaler.fit(X_train)\n",
        "X_train = scaler.transform(X_train)\n",
        "X_test = scaler.transform(X_test)"
      ],
      "execution_count": null,
      "outputs": []
    },
    {
      "cell_type": "code",
      "metadata": {
        "colab": {
          "base_uri": "https://localhost:8080/"
        },
        "id": "bCSQhJcB3-lw",
        "outputId": "1f33feb4-fd1d-4955-ef6c-f244c83b98af"
      },
      "source": [
        "from sklearn.linear_model import LinearRegression\n",
        "\n",
        "multiple_linear_regression = LinearRegression()\n",
        "multiple_linear_regression.fit(X = X_train, y = y_train)"
      ],
      "execution_count": null,
      "outputs": [
        {
          "output_type": "execute_result",
          "data": {
            "text/plain": [
              "LinearRegression(copy_X=True, fit_intercept=True, n_jobs=None, normalize=False)"
            ]
          },
          "metadata": {
            "tags": []
          },
          "execution_count": 18
        }
      ]
    },
    {
      "cell_type": "code",
      "metadata": {
        "colab": {
          "base_uri": "https://localhost:8080/"
        },
        "id": "V531KaMB3_n8",
        "outputId": "db8a8f42-0349-40ee-d217-4660c52b427f"
      },
      "source": [
        "from sklearn.metrics import mean_squared_error, r2_score\n",
        "\n",
        "y_pred = multiple_linear_regression.predict(X_test)\n",
        "\n",
        "rmse_MLR = np.sqrt(mean_squared_error(y_test, y_pred))\n",
        "\n",
        "r2 = r2_score(y_test, y_pred)\n",
        "\n",
        "print('R2 test = ', r2)\n",
        "print('RSME test = ', rmse_MLR)"
      ],
      "execution_count": null,
      "outputs": [
        {
          "output_type": "stream",
          "text": [
            "R2 test =  0.972422110155564\n",
            "RSME test =  0.0004762421332222983\n"
          ],
          "name": "stdout"
        }
      ]
    },
    {
      "cell_type": "markdown",
      "metadata": {
        "id": "95kTjGWwIJGL"
      },
      "source": [
        "As the data is standardized, we can analyze the coefficients and determine which are the most important predictor variables."
      ]
    },
    {
      "cell_type": "code",
      "metadata": {
        "colab": {
          "base_uri": "https://localhost:8080/"
        },
        "id": "JDXazK3tGbv5",
        "outputId": "db076522-1fc8-4c51-83e7-f390ae57bc4c"
      },
      "source": [
        "coefficients = pd.DataFrame(multiple_linear_regression.coef_,X.columns.tolist())\n",
        "coefficients.columns = ['Coefficients'] \n",
        "print(coefficients)"
      ],
      "execution_count": null,
      "outputs": [
        {
          "output_type": "stream",
          "text": [
            "                      Coeffecient\n",
            "fixed acidity            0.000664\n",
            "volatile acidity         0.000082\n",
            "citric acid              0.000042\n",
            "residual sugar           0.001960\n",
            "chlorides                0.000108\n",
            "free sulfur dioxide     -0.000123\n",
            "total sulfur dioxide     0.000156\n",
            "pH                       0.000538\n",
            "sulphates                0.000169\n",
            "alcohol                 -0.001370\n"
          ],
          "name": "stdout"
        }
      ]
    },
    {
      "cell_type": "markdown",
      "metadata": {
        "id": "sIL2FZbPIeC9"
      },
      "source": [
        "We can see that some variables are less important to generate the regression model. It is worth noticing that using only the alcohol, the residual sugar, the fixed acids, and the pH might make a better model since the other variables do not affect notably the prediction and introduce noise into the model."
      ]
    },
    {
      "cell_type": "code",
      "metadata": {
        "colab": {
          "base_uri": "https://localhost:8080/",
          "height": 366
        },
        "id": "6I1jIqCIHokY",
        "outputId": "13d9b254-55de-4b14-ec81-8389de75cf6a"
      },
      "source": [
        "coefficients.plot.bar()"
      ],
      "execution_count": null,
      "outputs": [
        {
          "output_type": "execute_result",
          "data": {
            "text/plain": [
              "<matplotlib.axes._subplots.AxesSubplot at 0x7fb37a6a2080>"
            ]
          },
          "metadata": {
            "tags": []
          },
          "execution_count": 21
        },
        {
          "output_type": "display_data",
          "data": {
            "image/png": "[encoded data removed]",
            "text/plain": [
              "<Figure size 432x288 with 1 Axes>"
            ]
          },
          "metadata": {
            "tags": [],
            "needs_background": "light"
          }
        }
      ]
    },
    {
      "cell_type": "markdown",
      "metadata": {
        "id": "nz-ZShKVpwTh"
      },
      "source": [
        "#LASSO\n",
        "---"
      ]
    },
    {
      "cell_type": "markdown",
      "metadata": {
        "id": "SuoVstqnRQtR"
      },
      "source": [
        "Least Absolute Shrinkage and Selection Operator (LASSO) is a linear regression method that produces variable selection and regularization to improve the prediction accuracy and generate a smaller model. This method uses a cost function with a constant alpha that defines the degree of penalization.\n",
        "\n",
        "$\n",
        "LASSO_{CostFunction}=\\sum_{i=1}^M (y_i-\\hat{y_i})^2=\\sum_{i=1}^M (y_i-\\sum_{j=0}^p w_j \\times x_{ij})^2 + \\alpha\\sum_{j=0}^p |w_j| \\\\\n",
        "For \\; some \\; t \\, > \\, 0, \\, \\sum_{j=0}^p |w_j|<t\n",
        "$\n",
        "\n",
        "**Scikit learn** has implemented LASSO in the function **sklearn.linear_model.Lasso**. For more information, please visit the [documentation](https://scikit-learn.org/stable/modules/generated/sklearn.linear_model.Lasso.html 'sklearn.linear_model.Lasso').\n"
      ]
    },
    {
      "cell_type": "code",
      "metadata": {
        "colab": {
          "base_uri": "https://localhost:8080/"
        },
        "id": "tnacIgj_nsVA",
        "outputId": "9685179a-24a4-4949-bed0-17e0ad69d8ed"
      },
      "source": [
        "from sklearn.linear_model import Lasso\n",
        "\n",
        "lasso_regression = Lasso(alpha=0.0001)\n",
        "lasso_regression.fit(X = X_train, y = y_train)"
      ],
      "execution_count": null,
      "outputs": [
        {
          "output_type": "execute_result",
          "data": {
            "text/plain": [
              "Lasso(alpha=0.0001, copy_X=True, fit_intercept=True, max_iter=1000,\n",
              "      normalize=False, positive=False, precompute=False, random_state=None,\n",
              "      selection='cyclic', tol=0.0001, warm_start=False)"
            ]
          },
          "metadata": {
            "tags": []
          },
          "execution_count": 22
        }
      ]
    },
    {
      "cell_type": "code",
      "metadata": {
        "colab": {
          "base_uri": "https://localhost:8080/"
        },
        "id": "ZUx82TcKOi2-",
        "outputId": "a83c7422-9840-43e0-fac6-9df0189b33b1"
      },
      "source": [
        "from sklearn.metrics import r2_score, mean_squared_error\n",
        "y_pred = lasso_regression.predict(X_test)\n",
        "\n",
        "\n",
        "r2 = r2_score(y_test, y_pred)\n",
        "print('R2 test = ', r2)"
      ],
      "execution_count": null,
      "outputs": [
        {
          "output_type": "stream",
          "text": [
            "R2 test =  0.9680058702120278\n"
          ],
          "name": "stdout"
        }
      ]
    },
    {
      "cell_type": "markdown",
      "metadata": {
        "id": "wLCUzPHp7u4p"
      },
      "source": [
        "Let's analyze if using LASSO we have a smaller model where some of the coefficients are zero."
      ]
    },
    {
      "cell_type": "code",
      "metadata": {
        "colab": {
          "base_uri": "https://localhost:8080/"
        },
        "id": "0ngK_8SKOssC",
        "outputId": "032125b3-4d48-4142-f8ac-cdb954afde5a"
      },
      "source": [
        "coeffecients = pd.DataFrame(lasso_regression.coef_,X.columns.tolist())\n",
        "coeffecients.columns = ['Coeffecient'] \n",
        "print(coeffecients)"
      ],
      "execution_count": null,
      "outputs": [
        {
          "output_type": "stream",
          "text": [
            "                      Coeffecient\n",
            "fixed acidity            0.000518\n",
            "volatile acidity         0.000000\n",
            "citric acid              0.000000\n",
            "residual sugar           0.001855\n",
            "chlorides                0.000027\n",
            "free sulfur dioxide     -0.000000\n",
            "total sulfur dioxide     0.000090\n",
            "pH                       0.000345\n",
            "sulphates                0.000096\n",
            "alcohol                 -0.001337\n"
          ],
          "name": "stdout"
        }
      ]
    },
    {
      "cell_type": "code",
      "metadata": {
        "colab": {
          "base_uri": "https://localhost:8080/",
          "height": 369
        },
        "id": "qGLwRUjqPJIL",
        "outputId": "f9b5d32e-5647-4017-914d-522e0e3d06d7"
      },
      "source": [
        "coeffecients.plot.bar()"
      ],
      "execution_count": null,
      "outputs": [
        {
          "output_type": "execute_result",
          "data": {
            "text/plain": [
              "<matplotlib.axes._subplots.AxesSubplot at 0x7fb3889b5128>"
            ]
          },
          "metadata": {
            "tags": []
          },
          "execution_count": 25
        },
        {
          "output_type": "display_data",
          "data": {
            "image/png": "[encoded data removed]",
            "text/plain": [
              "<Figure size 432x288 with 1 Axes>"
            ]
          },
          "metadata": {
            "tags": [],
            "needs_background": "light"
          }
        }
      ]
    },
    {
      "cell_type": "markdown",
      "metadata": {
        "id": "trrowEbG8G5F"
      },
      "source": [
        "Finally, we will analyze how the RSME of the training and test sets change for different alpha values."
      ]
    },
    {
      "cell_type": "code",
      "metadata": {
        "colab": {
          "base_uri": "https://localhost:8080/",
          "height": 494
        },
        "id": "LidWrIf5sAtj",
        "outputId": "5cc81f62-b276-400f-b42f-8e6e95806341"
      },
      "source": [
        "alphas=np.logspace(-10,3,endpoint=True,num=100,base=10)\n",
        "RMSE=[]\n",
        "RMSE_p=[]\n",
        "for x in (alphas):\n",
        "    #print(x)\n",
        "    model_lasso = Lasso(x)\n",
        "    model_lasso.fit(X_train, y_train)\n",
        "    pred_test_lasso= model_lasso.predict(X_test)\n",
        "    pred_train_lasso=model_lasso.predict(X_train)\n",
        "    RMSE_p.append(np.sqrt(mean_squared_error(y_test,pred_test_lasso)))\n",
        "    RMSE.append(np.sqrt(mean_squared_error(y_train,pred_train_lasso)))\n",
        "\n",
        "fig=plt.gcf()\n",
        "fig.set_size_inches(12,7)\n",
        "\n",
        "plt.plot(alphas,RMSE, label='Training Set', linewidth=6)\n",
        "plt.plot(alphas,RMSE_p, label='Test Set',linewidth=6)\n",
        "plt.plot(alphas,len(alphas)*[rmse_MLR], label='MLR',linewidth=4)\n",
        "plt.xscale(\"log\")\n",
        "plt.xlabel('alpha')\n",
        "plt.ylabel('RMSE')\n",
        "\n",
        "plt.rc('font', size=26)          # controls default text sizes\n",
        "plt.rc('axes', titlesize=26)     # fontsize of the axes title\n",
        "plt.rc('axes', labelsize=26)    # fontsize of the x and y labels\n",
        "plt.rc('xtick', labelsize=26)    # fontsize of the tick labels\n",
        "plt.rc('ytick', labelsize=26)    # fontsize of the tick labels\n",
        "plt.rc('legend', fontsize=24)    # legend fontsize\n",
        "plt.rc('figure', titlesize=18)  # fontsize of the figure title  \n",
        "\n",
        "plt.legend()"
      ],
      "execution_count": null,
      "outputs": [
        {
          "output_type": "execute_result",
          "data": {
            "text/plain": [
              "<matplotlib.legend.Legend at 0x7fb37a2c2940>"
            ]
          },
          "metadata": {
            "tags": []
          },
          "execution_count": 29
        },
        {
          "output_type": "display_data",
          "data": {
            "image/png": "[encoded data removed]",
            "text/plain": [
              "<Figure size 864x504 with 1 Axes>"
            ]
          },
          "metadata": {
            "tags": [],
            "needs_background": "light"
          }
        }
      ]
    },
    {
      "cell_type": "markdown",
      "metadata": {
        "id": "XOigfW4kRBjM"
      },
      "source": [
        "We can also make an advanced graph using ipywidgets that allow us to change the coefficients according to the value of alpha."
      ]
    },
    {
      "cell_type": "code",
      "metadata": {
        "colab": {
          "base_uri": "https://localhost:8080/",
          "height": 490,
          "referenced_widgets": [
            "b6eba8bdc2664ae4bcf130a4dc3b288a",
            "5ff86f437cd5411a9a5da4e008edd4e0",
            "dc16b2e593df483e92b38349f0f1e65e",
            "5e4adb97b23b447cbfdc7fbb8395cb6b",
            "cf40f1bd596b46e0bb01de0cb794409f",
            "4642dde69a124b86acfcd99b6f9feead",
            "62c64ae9873e497390b8f18eb63bc91c"
          ]
        },
        "id": "n-l5rsYRPLF9",
        "outputId": "e33f4614-8ff2-478c-a230-0ccebeb354d2"
      },
      "source": [
        "import ipywidgets as widgets\n",
        "\n",
        "from IPython.display import display\n",
        "from sklearn import preprocessing\n",
        "\n",
        "\n",
        "data_lasso = df.copy()\n",
        "data_lasso = data_lasso.drop(labels = ['quality','density'],axis = 1)\n",
        "features = data_lasso.columns.tolist()\n",
        "data_lasso = preprocessing.StandardScaler().fit_transform(data_lasso)\n",
        "y_lasso = df['density']\n",
        "\n",
        "def Lassovis(alpha):\n",
        "    lasso_regression = Lasso((alpha))\n",
        "    lasso_regression.fit(X = data_lasso, y = y_lasso)\n",
        "        \n",
        "    plt.figure(figsize=(10, 6))\n",
        "    plt.subplot(211)\n",
        "    pred_test_lasso=lasso_regression.predict(X_test)\n",
        "    plt.scatter(y_test,pred_test_lasso)\n",
        "    plt.xlabel('y_test')\n",
        "    plt.ylabel('pred_test_lasso')\n",
        "\n",
        "    plt.subplot(212)\n",
        "    plt.bar(features,lasso_regression.coef_)\n",
        "    plt.xticks(rotation=90)\n",
        "\n",
        "widgets.interact(Lassovis,alpha=widgets.FloatLogSlider(name='Alpha', base=10, min=-5, max=-2, step=0.25, value=0.001));"
      ],
      "execution_count": null,
      "outputs": [
        {
          "output_type": "display_data",
          "data": {
            "application/vnd.jupyter.widget-view+json": {
              "model_id": "b6eba8bdc2664ae4bcf130a4dc3b288a",
              "version_minor": 0,
              "version_major": 2
            },
            "text/plain": [
              "interactive(children=(FloatLogSlider(value=0.001, description='alpha', max=-2.0, min=-5.0, step=0.25), Output(…"
            ]
          },
          "metadata": {
            "tags": []
          }
        }
      ]
    }
  ]
}
