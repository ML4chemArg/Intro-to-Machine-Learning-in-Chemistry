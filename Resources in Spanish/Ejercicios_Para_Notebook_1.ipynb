{
  "nbformat": 4,
  "nbformat_minor": 0,
  "metadata": {
    "colab": {
      "name": "Ejercicios Para Notebook 1.ipynb",
      "provenance": [],
      "collapsed_sections": []
    },
    "kernelspec": {
      "name": "python3",
      "display_name": "Python 3"
    }
  },
  "cells": [
    {
      "cell_type": "markdown",
      "metadata": {
        "id": "Zr_CZSxsFAkG"
      },
      "source": [
        "---\n",
        "#Ejercicios Para Notebook 1\n",
        "Preparamos una serie de ejercicios para que pongas lo aprendido en el Notebook 1 en acción.\n",
        "\n",
        "\n",
        "---"
      ]
    },
    {
      "cell_type": "markdown",
      "metadata": {
        "id": "l3KRh545SgTz"
      },
      "source": [
        "## Ejercicio 1.1: Armar una calculadora\n",
        "\n",
        "##### Hacer una calculadora definiendo funciones de operación. En particular: \n",
        "#####. Hacer una función que sume números\n",
        "#####. Hacer una función que reste números\n",
        "#####. Hacer una función que multiplique números\n",
        "#####. Hacer una función que divida números\n",
        "#####. Hacer una función que calcule una potencia de un número\n",
        "#####. Hacer una función que calcule una raíz cuadrada de un número\n",
        "#####. Probar la calculadora y chequear qué tipo (\"type\") de resultado se obtuvo.\n",
        "#####. Impripir un string en la pantalla que diga el resultado de los cálculos (usar la función `str()` para convertir los números en strings.)\n",
        "\n",
        "\n",
        "- TIP 1: Una forma de hacerlo es usar los comandos `def` y `return` , por ejemplo: \n",
        "```\n",
        "def function_name(x, y):\n",
        "    return poner-acá-expresión-matemática-que-quieras-hacer\n",
        "function_name(1, 2)\n",
        "```\n",
        "- TIP 2: Python tiene funciones integradas que se pueden usar, como: \n",
        "\n",
        "pow(): devuelve la potencia de un número\n",
        "\n",
        "abs(): devuelve el valor absoluto de un número\n"
      ]
    },
    {
      "cell_type": "code",
      "metadata": {
        "colab": {
          "base_uri": "https://localhost:8080/"
        },
        "id": "OmYSQY8BbKlI",
        "outputId": "4a95bfdd-4fb7-432f-ff50-87711e3a6af5"
      },
      "source": [
        "def add(x,y):\r\n",
        "  return (x+y)\r\n",
        "add(1,3)"
      ],
      "execution_count": 1,
      "outputs": [
        {
          "output_type": "execute_result",
          "data": {
            "text/plain": [
              "4"
            ]
          },
          "metadata": {
            "tags": []
          },
          "execution_count": 1
        }
      ]
    },
    {
      "cell_type": "code",
      "metadata": {
        "colab": {
          "base_uri": "https://localhost:8080/"
        },
        "id": "kfM7A3ti7xA5",
        "outputId": "f046fb7c-babb-4745-fa12-4804c2ec984b"
      },
      "source": [
        "\r\n",
        "def substract(x,y):\r\n",
        "  return(x-y)\r\n",
        "substract(3,1)\r\n"
      ],
      "execution_count": 2,
      "outputs": [
        {
          "output_type": "execute_result",
          "data": {
            "text/plain": [
              "2"
            ]
          },
          "metadata": {
            "tags": []
          },
          "execution_count": 2
        }
      ]
    },
    {
      "cell_type": "code",
      "metadata": {
        "colab": {
          "base_uri": "https://localhost:8080/"
        },
        "id": "L8YXDA-98xtY",
        "outputId": "469f2439-53e1-4e5d-8357-595b07e39fc5"
      },
      "source": [
        "def multiply(x,y):\r\n",
        "    return (x*y)\r\n",
        "multiply(5,2)"
      ],
      "execution_count": 3,
      "outputs": [
        {
          "output_type": "execute_result",
          "data": {
            "text/plain": [
              "10"
            ]
          },
          "metadata": {
            "tags": []
          },
          "execution_count": 3
        }
      ]
    },
    {
      "cell_type": "code",
      "metadata": {
        "colab": {
          "base_uri": "https://localhost:8080/"
        },
        "id": "Q8UdbH05-A3f",
        "outputId": "1424b9f0-6f94-4141-9d1b-8712946006ba"
      },
      "source": [
        "def divide(x,y):\r\n",
        "  return(x/y)\r\n",
        "divide(4,2)"
      ],
      "execution_count": 4,
      "outputs": [
        {
          "output_type": "execute_result",
          "data": {
            "text/plain": [
              "2.0"
            ]
          },
          "metadata": {
            "tags": []
          },
          "execution_count": 4
        }
      ]
    },
    {
      "cell_type": "code",
      "metadata": {
        "colab": {
          "base_uri": "https://localhost:8080/"
        },
        "id": "eyogF_uT-GpG",
        "outputId": "cedabf82-dd92-49c8-bd12-c64b45befacc"
      },
      "source": [
        "pow(3,2)"
      ],
      "execution_count": 5,
      "outputs": [
        {
          "output_type": "execute_result",
          "data": {
            "text/plain": [
              "9"
            ]
          },
          "metadata": {
            "tags": []
          },
          "execution_count": 5
        }
      ]
    },
    {
      "cell_type": "code",
      "metadata": {
        "colab": {
          "base_uri": "https://localhost:8080/"
        },
        "id": "lNVUuWGH-PCC",
        "outputId": "0800af4c-d4a6-42b8-c8d7-dacc8a517b0a"
      },
      "source": [
        "# Podemos definir la función raíz cuadrada\r\n",
        "def sqrt(x):\r\n",
        "  return(x**(1/2))\r\n",
        "sqrt(9)"
      ],
      "execution_count": 6,
      "outputs": [
        {
          "output_type": "execute_result",
          "data": {
            "text/plain": [
              "3.0"
            ]
          },
          "metadata": {
            "tags": []
          },
          "execution_count": 6
        }
      ]
    },
    {
      "cell_type": "code",
      "metadata": {
        "colab": {
          "base_uri": "https://localhost:8080/"
        },
        "id": "X1qYMU2u7ONp",
        "outputId": "1b1c13c6-8211-4829-b698-e7bc90160788"
      },
      "source": [
        "# Chequeamos el tipo:\r\n",
        "type(add(1,2))"
      ],
      "execution_count": 7,
      "outputs": [
        {
          "output_type": "execute_result",
          "data": {
            "text/plain": [
              "int"
            ]
          },
          "metadata": {
            "tags": []
          },
          "execution_count": 7
        }
      ]
    },
    {
      "cell_type": "code",
      "metadata": {
        "colab": {
          "base_uri": "https://localhost:8080/"
        },
        "id": "9xtmqcal8rWn",
        "outputId": "127cdb60-3500-4d7f-fe7f-13d9b084fd10"
      },
      "source": [
        "type(divide(3,2))"
      ],
      "execution_count": 8,
      "outputs": [
        {
          "output_type": "execute_result",
          "data": {
            "text/plain": [
              "float"
            ]
          },
          "metadata": {
            "tags": []
          },
          "execution_count": 8
        }
      ]
    },
    {
      "cell_type": "code",
      "metadata": {
        "colab": {
          "base_uri": "https://localhost:8080/",
          "height": 35
        },
        "id": "OH7NSrfd7VkO",
        "outputId": "7824e5e3-f399-463b-d0fb-02da5fef6eed"
      },
      "source": [
        "# Imprimimos un string explicando el resultado:\r\n",
        "\"El resultado de dividir 3 en 2 es \" + str(divide(3,2)) + \".El tipo de resultado es necesariamente un float porque es un número decimal\""
      ],
      "execution_count": 9,
      "outputs": [
        {
          "output_type": "execute_result",
          "data": {
            "application/vnd.google.colaboratory.intrinsic+json": {
              "type": "string"
            },
            "text/plain": [
              "'El resultado de dividir 3 en 2 es 1.5.El tipo de resultado es necesariamente un float porque es un número decimal'"
            ]
          },
          "metadata": {
            "tags": []
          },
          "execution_count": 9
        }
      ]
    },
    {
      "cell_type": "markdown",
      "metadata": {
        "id": "EHui5Ukt39ew"
      },
      "source": [
        "## Ejercicio 1.2:\r\n",
        "#####. Hacer una lista que contenga números junto con algunos strings.\r\n",
        "#####. Hacer una función que devuelva el tipo de dato (type) de los diferentes elementos de la lista."
      ]
    },
    {
      "cell_type": "code",
      "metadata": {
        "colab": {
          "base_uri": "https://localhost:8080/"
        },
        "id": "Z8UyXyP54YqQ",
        "outputId": "2e4baa7e-22d8-4643-e985-0db0b1065634"
      },
      "source": [
        "my_list=[ 3, 4.8, \"cats\", \"mouse\"]\r\n",
        "\r\n",
        "def type_of_element (number_of_element):\r\n",
        "    operation = type(my_list[number_of_element])\r\n",
        "    return operation\r\n",
        "\r\n",
        "type_of_element(0)"
      ],
      "execution_count": 10,
      "outputs": [
        {
          "output_type": "execute_result",
          "data": {
            "text/plain": [
              "int"
            ]
          },
          "metadata": {
            "tags": []
          },
          "execution_count": 10
        }
      ]
    },
    {
      "cell_type": "code",
      "metadata": {
        "colab": {
          "base_uri": "https://localhost:8080/"
        },
        "id": "533FtA4m-gQ1",
        "outputId": "4f6bb3b3-db1f-4df7-c889-7f2bdb7c968e"
      },
      "source": [
        "type_of_element(2)"
      ],
      "execution_count": 11,
      "outputs": [
        {
          "output_type": "execute_result",
          "data": {
            "text/plain": [
              "str"
            ]
          },
          "metadata": {
            "tags": []
          },
          "execution_count": 11
        }
      ]
    },
    {
      "cell_type": "markdown",
      "metadata": {
        "id": "3YNfKse8RTI1"
      },
      "source": [
        "## Ejercicio 1.3: DataFrames\r\n",
        "#####. Cargar el dataset llamado \"planets\" contenido en la librería Seaborn.\r\n",
        "#####. Encontrar la distancia media para todos los datos anteriores a 2010.\r\n",
        "TIP: Primero hacer un nuevo DataFrame que sólo tenga datos anteriores a 2010. Extraer la columna de distancia de allí. Finalmente, encontrar un método que calcule la distancia media.\r\n"
      ]
    },
    {
      "cell_type": "code",
      "metadata": {
        "colab": {
          "base_uri": "https://localhost:8080/"
        },
        "id": "jTmOq2jNzL9c",
        "outputId": "78b8e727-44b0-4100-a78a-46ffe1b3e79f"
      },
      "source": [
        "import seaborn as sns\r\n",
        "#sns.get_dataset_names()\r\n",
        "planets = sns.load_dataset(\"planets\")\r\n",
        "post2010= planets[planets[\"year\"]>2010]\r\n",
        "post2010[\"distance\"].mean()"
      ],
      "execution_count": 12,
      "outputs": [
        {
          "output_type": "execute_result",
          "data": {
            "text/plain": [
              "434.9191950464397"
            ]
          },
          "metadata": {
            "tags": []
          },
          "execution_count": 12
        }
      ]
    },
    {
      "cell_type": "markdown",
      "metadata": {
        "id": "05afbiHubHvK"
      },
      "source": [
        "## Ejercicio 1.4:\r\n",
        "#####. Cargar el dataset contenido en Seaborn llamado \"flights\"\r\n",
        "#####. Plotear el número de pasajeros para cada año. (Si se quiere, se puede distinguir un mes de otro usando el parámetro de \"hue\" para ver muchos ploteos a la vez dentro del mismo gráfico)\r\n",
        "#####. ¿Se puede sacar formular algunas conclusiones mirando este gráfico simple? \r\n",
        "#####. Hacer una regresión lineal para un mes a elección.\r\n",
        "\r\n"
      ]
    },
    {
      "cell_type": "code",
      "metadata": {
        "colab": {
          "base_uri": "https://localhost:8080/",
          "height": 296
        },
        "id": "iY8rKf27R3Dw",
        "outputId": "c128e7a8-bba4-4ec7-8277-05c13b766caa"
      },
      "source": [
        "import seaborn as sns\r\n",
        "flights = sns.load_dataset(\"flights\")\r\n",
        "sns.scatterplot(x=\"year\", y=\"passengers\",hue=\"month\", data=flights)\r\n",
        "# La demanda más alta de vuelos ocurre en la mitad de cada año.\r\n",
        "# La demanda de vuelos aumenta a medida que pasa el tiempo. "
      ],
      "execution_count": 13,
      "outputs": [
        {
          "output_type": "execute_result",
          "data": {
            "text/plain": [
              "<matplotlib.axes._subplots.AxesSubplot at 0x7f3117e6dc50>"
            ]
          },
          "metadata": {
            "tags": []
          },
          "execution_count": 13
        },
        {
          "output_type": "display_data",
          "data": {
            "image/png": "[encoded data removed]",
            "text/plain": [
              "<Figure size 432x288 with 1 Axes>"
            ]
          },
          "metadata": {
            "tags": [],
            "needs_background": "light"
          }
        }
      ]
    },
    {
      "cell_type": "code",
      "metadata": {
        "colab": {
          "base_uri": "https://localhost:8080/",
          "height": 400
        },
        "id": "66oULjY9daNe",
        "outputId": "a7495e55-9ea9-4f14-dd91-005798b3e57d"
      },
      "source": [
        "sns.lmplot(x=\"year\", y=\"passengers\", data=flights[flights['month']=='May'])"
      ],
      "execution_count": 14,
      "outputs": [
        {
          "output_type": "execute_result",
          "data": {
            "text/plain": [
              "<seaborn.axisgrid.FacetGrid at 0x7f3117d1f590>"
            ]
          },
          "metadata": {
            "tags": []
          },
          "execution_count": 14
        },
        {
          "output_type": "display_data",
          "data": {
            "image/png": "[encoded data removed]",
            "text/plain": [
              "<Figure size 360x360 with 1 Axes>"
            ]
          },
          "metadata": {
            "tags": [],
            "needs_background": "light"
          }
        }
      ]
    },
    {
      "cell_type": "markdown",
      "metadata": {
        "id": "7LW6EUkirg2U"
      },
      "source": [
        "---\r\n",
        "# Ejercicios avanzados / de investigación\r\n",
        "\r\n",
        "#####En esta sección te animamos a que investigues algunas bibliotecas nuevas que se utilizan habitualmente en el análisis de datos. Por ejemplo, numpy es una biblioteca muy utilizada para cualquier tarea algebraica, y también proporciona los métodos básicos para muchas otras bibliotecas. Se proporcionarán enlaces a la documentación para que puedas completar las tareas. Muchas de estas bibliotecas están disponibles en Google Collab, sin necesidad de instalarlas (a diferencia de Pingouin).\r\n",
        "\r\n",
        "\r\n",
        "---\r\n",
        "\r\n",
        "\r\n"
      ]
    },
    {
      "cell_type": "markdown",
      "metadata": {
        "id": "oNm2v1tO3V3A"
      },
      "source": [
        " ### Ejemplo en Numpy\r\n",
        " \r\n",
        " \r\n",
        "Digamos que queremos hacer una suma con numpy. Numpy tiene un método llamado \"add\" que usa 2 parámetros arbitrarios como los números que queremos añadir. Se puede consultar la documentación de numpy completa en [este enlace](https://numpy.org/doc/stable/reference/routines.math.html) \r\n"
      ]
    },
    {
      "cell_type": "code",
      "metadata": {
        "colab": {
          "base_uri": "https://localhost:8080/"
        },
        "id": "BrdVsDW14U8F",
        "outputId": "b050074f-67bc-425b-b850-12a6353d2023"
      },
      "source": [
        "import numpy as np\r\n",
        "np.add(2,3)"
      ],
      "execution_count": 15,
      "outputs": [
        {
          "output_type": "execute_result",
          "data": {
            "text/plain": [
              "5"
            ]
          },
          "metadata": {
            "tags": []
          },
          "execution_count": 15
        }
      ]
    },
    {
      "cell_type": "markdown",
      "metadata": {
        "id": "ACilte2z4j25"
      },
      "source": [
        "También se pueden hacer otras operaciones, como convertir grados en radianes. Numpy inlcuye todos los números irracionales como $\\pi$ (`np.pi`)."
      ]
    },
    {
      "cell_type": "code",
      "metadata": {
        "colab": {
          "base_uri": "https://localhost:8080/"
        },
        "id": "cUplfY8r4wHE",
        "outputId": "0e123f36-b84b-4d87-c345-d984d4d2c3e1"
      },
      "source": [
        "Pi=np.pi\r\n",
        "np.degrees(Pi)"
      ],
      "execution_count": 16,
      "outputs": [
        {
          "output_type": "execute_result",
          "data": {
            "text/plain": [
              "180.0"
            ]
          },
          "metadata": {
            "tags": []
          },
          "execution_count": 16
        }
      ]
    },
    {
      "cell_type": "markdown",
      "metadata": {
        "id": "aEIlGbmy5NLQ"
      },
      "source": [
        "\r\n",
        "### Ejemplo en Matplotlib\r\n",
        "##### Matplotlib es la biblioteca para graficar más utilizada para Python. Usamos Seaborn por su simple sintaxis y su alta aplicabilidad para estadística, pero Seaborn se basa en Matplotlib. Cuando se necesita hacer un gráfico muy específico con encabezados, barras de herramientas, títulos, etiquetas, interactividad y muchas otras adiciones, el uso directo de matplotlib es a menudo el camino a seguir. [Enlace de documentación de matplotlib](https://matplotlib.org/contents.html).\r\n",
        "##### Acá sólo vamos a mostrar cómo hacer una gráfico bastante simple con algunas etiquetas.\r\n"
      ]
    },
    {
      "cell_type": "code",
      "metadata": {
        "colab": {
          "base_uri": "https://localhost:8080/",
          "height": 265
        },
        "id": "b4iOT2-G5_rJ",
        "outputId": "5d3e4034-8fcb-4c4b-b1d8-46b2c6f5edb4"
      },
      "source": [
        "import matplotlib.pyplot as plt\r\n",
        "xvalues=[1,2,3,4] #Hacer una lista de x valores\r\n",
        "yvalues=[3,6,9,12] #Hacer una lista de y valores\r\n",
        "plt.xlabel= \"The X Values\" #Poner las etiquetas (labels) para x\r\n",
        "plt.ylabel= \"The Y Values\" #Poner los labels para y\r\n",
        "plt.plot(xvalues, yvalues, \".\") #Decirle que haga el ploteo\r\n",
        "plt.show() #Decirle a Pyhton que finalmente muestre el ploteo"
      ],
      "execution_count": 17,
      "outputs": [
        {
          "output_type": "display_data",
          "data": {
            "image/png": "[encoded data removed]",
            "text/plain": [
              "<Figure size 432x288 with 1 Axes>"
            ]
          },
          "metadata": {
            "tags": [],
            "needs_background": "light"
          }
        }
      ]
    },
    {
      "cell_type": "markdown",
      "metadata": {
        "id": "LSjwF0p03QGQ"
      },
      "source": [
        "### Ejercicio 1.5: Calculando valores trigonométricos\n",
        "\n",
        "Si recordamos algo de trigonometría, se demuestra que el sin(30°) es exactamente 0,5. Sin embargo, las computadoras utilizan series de Taylor y técnicas relacionadas para estimar tales valores.\n",
        "##### Mostrar que el número 0,5 difiere del sin(30°) para una computadora.\n",
        "##### CONSEJO: Utilizar el numpy para calcular el seno, luego hacer una comparación mostrando que los 2 valores no son iguales.\n"
      ]
    },
    {
      "cell_type": "markdown",
      "metadata": {
        "id": "SZBxfze3375Z"
      },
      "source": [
        "Solución:\r\n",
        "##### Como vimos en el Notebook 1, cada vez que trabajemos con valores float, en realidad estaremos trabajando con *aproximaciones*, debido a que las computadoras almacenan los números decimales como fracciones binarias.\r\n",
        "Para completar la tarea asignada, necesitaremos usar el módulo **\"numpy \"**.\r\n",
        " Usando la celda de código de abajo, definir una variable \"a\" como 0.5, y otra variable \"b\" como sin(30°). Una vez que se hayan definido ambas variables, ver si estos dos valores son tomados por la computadora como iguales (pista: \"pregunte\" a la computadora si a=b)\r\n"
      ]
    },
    {
      "cell_type": "code",
      "metadata": {
        "id": "GxX-cEuMqTfC",
        "colab": {
          "base_uri": "https://localhost:8080/"
        },
        "outputId": "79a9e794-1a42-4adf-80b4-9816326b0f90"
      },
      "source": [
        "import numpy as np\r\n",
        "a=0.5 #Definimos 0,5 y lo llamamos \"a\"\r\n",
        "b=np.sin(np.radians(30)) # Calculamos sin(30°) y lo llamamos\"b\". No olvidar convertir de grados a radianes primero!\r\n",
        "b"
      ],
      "execution_count": 18,
      "outputs": [
        {
          "output_type": "execute_result",
          "data": {
            "text/plain": [
              "0.49999999999999994"
            ]
          },
          "metadata": {
            "tags": []
          },
          "execution_count": 18
        }
      ]
    },
    {
      "cell_type": "code",
      "metadata": {
        "id": "XBuvBQ7_EIXA",
        "colab": {
          "base_uri": "https://localhost:8080/"
        },
        "outputId": "943b959f-b270-40c0-fc08-be0cfbbac8b3"
      },
      "source": [
        "a==b"
      ],
      "execution_count": 19,
      "outputs": [
        {
          "output_type": "execute_result",
          "data": {
            "text/plain": [
              "False"
            ]
          },
          "metadata": {
            "tags": []
          },
          "execution_count": 19
        }
      ]
    },
    {
      "cell_type": "code",
      "metadata": {
        "id": "BwB0OdIeqviQ",
        "colab": {
          "base_uri": "https://localhost:8080/"
        },
        "outputId": "fec4dce5-8435-4bb0-e125-a92656e4bc15"
      },
      "source": [
        "a-b"
      ],
      "execution_count": 20,
      "outputs": [
        {
          "output_type": "execute_result",
          "data": {
            "text/plain": [
              "5.551115123125783e-17"
            ]
          },
          "metadata": {
            "tags": []
          },
          "execution_count": 20
        }
      ]
    },
    {
      "cell_type": "markdown",
      "metadata": {
        "id": "CEPcwoEj3U2w"
      },
      "source": [
        "Como probablemente se puede ver, el sin(30°) calculado es una aproximación, y si se utilizara una condición que necesitara que la diferencia entre los dos valores fuera cero, nuestro código no sería efectivo porque, para la computadora, esta diferencia no es exactamente 0. Hacer la resta en la celda de abajo y ver que el resultado no en cero."
      ]
    },
    {
      "cell_type": "markdown",
      "metadata": {
        "id": "7XqbR2KLg9lI"
      },
      "source": [
        "## Ejercicio 1.6:\r\n",
        "Rehacer el ejercicio 1.1, peroesta vez, usar los métodos de numpy para realizar la misma tarea."
      ]
    },
    {
      "cell_type": "markdown",
      "metadata": {
        "id": "7Td662xhBQg9"
      },
      "source": [
        "Solution:\r\n"
      ]
    },
    {
      "cell_type": "code",
      "metadata": {
        "colab": {
          "base_uri": "https://localhost:8080/"
        },
        "id": "x03kNk8NiEPt",
        "outputId": "032d6e17-1bd2-43b4-a3f0-5f5fadd582bd"
      },
      "source": [
        "import numpy as np\r\n",
        "np.add(2,4)"
      ],
      "execution_count": 21,
      "outputs": [
        {
          "output_type": "execute_result",
          "data": {
            "text/plain": [
              "6"
            ]
          },
          "metadata": {
            "tags": []
          },
          "execution_count": 21
        }
      ]
    },
    {
      "cell_type": "code",
      "metadata": {
        "colab": {
          "base_uri": "https://localhost:8080/"
        },
        "id": "vgh9kmC5jWVW",
        "outputId": "e96db596-92cf-435c-cbdd-66acec71b896"
      },
      "source": [
        "np.subtract(1,2)"
      ],
      "execution_count": 22,
      "outputs": [
        {
          "output_type": "execute_result",
          "data": {
            "text/plain": [
              "-1"
            ]
          },
          "metadata": {
            "tags": []
          },
          "execution_count": 22
        }
      ]
    },
    {
      "cell_type": "code",
      "metadata": {
        "colab": {
          "base_uri": "https://localhost:8080/"
        },
        "id": "oYjwhAZyjWCD",
        "outputId": "5e6f6764-5211-41be-ee8f-e6edd151a47e"
      },
      "source": [
        "np.multiply(2,5)"
      ],
      "execution_count": 23,
      "outputs": [
        {
          "output_type": "execute_result",
          "data": {
            "text/plain": [
              "10"
            ]
          },
          "metadata": {
            "tags": []
          },
          "execution_count": 23
        }
      ]
    },
    {
      "cell_type": "code",
      "metadata": {
        "colab": {
          "base_uri": "https://localhost:8080/"
        },
        "id": "wSA2oRGmjVv7",
        "outputId": "e75daecb-3b55-473f-bc9a-4d37da1f9841"
      },
      "source": [
        "np.true_divide(4,2)"
      ],
      "execution_count": 24,
      "outputs": [
        {
          "output_type": "execute_result",
          "data": {
            "text/plain": [
              "2.0"
            ]
          },
          "metadata": {
            "tags": []
          },
          "execution_count": 24
        }
      ]
    },
    {
      "cell_type": "code",
      "metadata": {
        "colab": {
          "base_uri": "https://localhost:8080/"
        },
        "id": "zYsJEbCpjVb0",
        "outputId": "3b020644-8a95-43bc-933d-0c32b9c57517"
      },
      "source": [
        "np.power(3,2)"
      ],
      "execution_count": 25,
      "outputs": [
        {
          "output_type": "execute_result",
          "data": {
            "text/plain": [
              "9"
            ]
          },
          "metadata": {
            "tags": []
          },
          "execution_count": 25
        }
      ]
    },
    {
      "cell_type": "code",
      "metadata": {
        "colab": {
          "base_uri": "https://localhost:8080/"
        },
        "id": "cW8Y0i0djyRn",
        "outputId": "afc6001b-beea-4898-a2b8-95a8adc03f65"
      },
      "source": [
        "np.sqrt(2)"
      ],
      "execution_count": 26,
      "outputs": [
        {
          "output_type": "execute_result",
          "data": {
            "text/plain": [
              "1.4142135623730951"
            ]
          },
          "metadata": {
            "tags": []
          },
          "execution_count": 26
        }
      ]
    },
    {
      "cell_type": "markdown",
      "metadata": {
        "id": "3_rGBRLJCHLQ"
      },
      "source": [
        "## Ejercicio 1.7: Scatter plot/Regresión de números aleatorios - barras de error - Matplotlib\n",
        "Esta será la tarea más completa hasta ahora, se tendrán que investigar muchas bibliotecas.\n",
        "\n",
        "#####. Generar dos listas de números aleatorios, una para los valores \"X\" de tu gráfica y otra para los valores \"Y\" y ordenarlos en orden ascendente\n",
        "#####. Plotear la lista de valores, poner etiquetas en los ejes y un título al gráfico.\n",
        "#####. Calcular una regresión lineal y ponerla en el mismo gráfico\n",
        "#####. Calcular las barras de error y ponerlas en el mismo gráfico\n",
        "\n",
        "##### Ayuda:\n",
        "##### - Usar la función nativa de Python `random` para generar números aleatorios. `range` y `random.sample` pueden ser una buena manera de hacerlo. Información para `random` [aquí](https://docs.python.org/3/library/random.html). Información para `range` [aquí](https://www.w3schools.com/python/ref_func_range.asp)\n",
        "##### - Se puede encontrar información para `sort` [aquí](https://www.w3schools.com/python/ref_list_sort.asp)\n",
        "##### - Usar numpy para la regresión lineal, la función `polyfit` puede ayudar. Más información [aquí](https://numpy.org/doc/stable/reference/generated/numpy.polyfit.html)\n",
        "##### - Se puede encontrar información para de las barras de error en la documentación de matplotlib [aquí](https://matplotlib.org/3.1.1/api/_as_gen/matplotlib.pyplot.errorbar.html)\n"
      ]
    },
    {
      "cell_type": "markdown",
      "metadata": {
        "id": "7TQw2HlFPvii"
      },
      "source": [
        "Solution:\r\n",
        "##### First, we'll automatically generate some values: "
      ]
    },
    {
      "cell_type": "code",
      "metadata": {
        "colab": {
          "base_uri": "https://localhost:8080/"
        },
        "id": "flE5XhKHJL5w",
        "outputId": "ce7e14e9-43a9-4cb6-f385-b7decc9db0cd"
      },
      "source": [
        "import random\n",
        "#Generar 20 números aleatorios entre 1 y 100\n",
        "randomlist_x = random.sample(range(1, 100), 20)\n",
        "print(randomlist_x)"
      ],
      "execution_count": 27,
      "outputs": [
        {
          "output_type": "stream",
          "text": [
            "[28, 97, 31, 42, 52, 43, 18, 81, 34, 94, 76, 79, 96, 7, 75, 60, 50, 11, 2, 89]\n"
          ],
          "name": "stdout"
        }
      ]
    },
    {
      "cell_type": "markdown",
      "metadata": {
        "id": "R6aY-Tt8PU4c"
      },
      "source": [
        "Estos serán nuestros valores \"x\".\n",
        "Ahora es tu turno de generar otra lista de 20 números aleatorios entre 20 y 100 para que sean nuestros valores \"y\" y nombrarla *randomlist_y*:\n"
      ]
    },
    {
      "cell_type": "code",
      "metadata": {
        "colab": {
          "base_uri": "https://localhost:8080/"
        },
        "id": "u3P_FHtkJTyn",
        "outputId": "f5764f05-054c-4587-e8b3-f4454917c804"
      },
      "source": [
        "#Generar 20 números aleatorios entre 1 y 100\n",
        "randomlist_y = random.sample(range(1, 100), 20)\n",
        "print(randomlist_y)"
      ],
      "execution_count": 28,
      "outputs": [
        {
          "output_type": "stream",
          "text": [
            "[59, 93, 25, 10, 94, 52, 76, 9, 66, 29, 77, 8, 75, 98, 43, 69, 27, 36, 51, 22]\n"
          ],
          "name": "stdout"
        }
      ]
    },
    {
      "cell_type": "markdown",
      "metadata": {
        "id": "0EgGA3ZjQfR8"
      },
      "source": [
        "Usemos la función **sort()** en nuestra lista de valores x para ordenarlos en orden ascendente. Esta es una función incorporada de Python. Si no se introduce ningún parámetro adicional, se ordenan los elementos de la lista en orden ascendente. Esta función cambia nuestra lista directamente, por lo que no hay necesidad de definir una nueva lista ordenada. Añadir código para ordenar los valores de la lista que se acaba de crear. Además, usar lo aprendido en el cuaderno 1 para visualizar la nueva versión de tus listas, para asegurarte de que los valores están ordenados correctamente.\r\n"
      ]
    },
    {
      "cell_type": "code",
      "metadata": {
        "colab": {
          "base_uri": "https://localhost:8080/"
        },
        "id": "jYUPAqAtRF0_",
        "outputId": "69bc3050-4224-49b1-f7ef-90bbd7055ecf"
      },
      "source": [
        "randomlist_x.sort()\n",
        "randomlist_y.sort()\n",
        "\n",
        "print(randomlist_x)\n",
        "print(randomlist_y)"
      ],
      "execution_count": 29,
      "outputs": [
        {
          "output_type": "stream",
          "text": [
            "[2, 7, 11, 18, 28, 31, 34, 42, 43, 50, 52, 60, 75, 76, 79, 81, 89, 94, 96, 97]\n",
            "[8, 9, 10, 22, 25, 27, 29, 36, 43, 51, 52, 59, 66, 69, 75, 76, 77, 93, 94, 98]\n"
          ],
          "name": "stdout"
        }
      ]
    },
    {
      "cell_type": "markdown",
      "metadata": {
        "id": "eh4CgzdyLk0B"
      },
      "source": [
        "Importemos los módulos **numpy** y **matplotlib.pyplot** para nuestro gráfico, y definamos nuestra primera lista de números como nuestros valores \"x\". Añadir tu propio código para definir la segunda lista como los valores \"y\":\n",
        "\n"
      ]
    },
    {
      "cell_type": "code",
      "metadata": {
        "id": "yC8SvnY2LwRj"
      },
      "source": [
        "import matplotlib.pyplot as plt\n",
        "import numpy as np\n",
        "\n",
        "x= randomlist_x\n",
        "y=randomlist_y"
      ],
      "execution_count": 30,
      "outputs": []
    },
    {
      "cell_type": "markdown",
      "metadata": {
        "id": "DcYwqTXyQMEk"
      },
      "source": [
        "hagamso un scatter plot (gráfico de dispersión) con estos valores. Usar la función `scatter() `de matplotlib.\r\n",
        "Se puede agregar un título al gráfico con la función `title()` y etiquetar los ejes con `xlabel()` y `ylabel()` respectivamente."
      ]
    },
    {
      "cell_type": "code",
      "metadata": {
        "colab": {
          "base_uri": "https://localhost:8080/",
          "height": 281
        },
        "id": "yo_sNz0LQZVk",
        "outputId": "14b61af0-8297-4ca3-e911-3dd38af6343b"
      },
      "source": [
        "plt.scatter(x,y, marker='o')\r\n",
        "plt.title(\"Scatter Plot\")\r\n",
        "plt.xlabel=\"x values\"\r\n",
        "plt.ylabel=\"y values\""
      ],
      "execution_count": 31,
      "outputs": [
        {
          "output_type": "display_data",
          "data": {
            "image/png": "[encoded data removed]",
            "text/plain": [
              "<Figure size 432x288 with 1 Axes>"
            ]
          },
          "metadata": {
            "tags": [],
            "needs_background": "light"
          }
        }
      ]
    },
    {
      "cell_type": "markdown",
      "metadata": {
        "id": "9bJp0e77bKAu"
      },
      "source": [
        "Ahora dibujar una línea de tendencia sobre el gráfico anterior definiendo una nueva variable como el ajuste polinomial de grado 1 de la distribución. En numpy esta función se llama \"`polyfit`\", y los parámetros deben ser x, y, y el grado del polinomio al que se quiere ajustar la distribución.\r\n",
        "\r\n",
        "Para hacer un gráfico más comprensible, es mejor añadir \"leyendas\", para etiquetar todo correctamente. Agregar un parámetro adicional \"label\" a la función `scatter()`, y luego usar la función `legend()` para mostrar estas leyendas en la gráfico.\r\n"
      ]
    },
    {
      "cell_type": "code",
      "metadata": {
        "colab": {
          "base_uri": "https://localhost:8080/",
          "height": 281
        },
        "id": "GmW65YBaUgdq",
        "outputId": "d5e9c579-a92c-454b-ea85-67f9e0b1c167"
      },
      "source": [
        "plt.scatter(x, y, label=\"scatter\")\n",
        "\n",
        "z = np.polyfit(x, y, 1) # z da la pendiente y ordenada al origen como output en una lista \n",
        "p = np.poly1d(z) # p me va a dar los valores \"y\" correspondientes a los valores x.\n",
        "plt.plot(x,p(x),\"r-\", label=\"trendline\")\n",
        "\n",
        "plt.title(\"Scatter Plot and trendline\")\n",
        "plt.xlabel=\"x values\"\n",
        "plt.ylabel=\"y values\"\n",
        "plt.legend()\n",
        "plt.show()"
      ],
      "execution_count": 32,
      "outputs": [
        {
          "output_type": "display_data",
          "data": {
            "image/png": "[encoded data removed]",
            "text/plain": [
              "<Figure size 432x288 with 1 Axes>"
            ]
          },
          "metadata": {
            "tags": [],
            "needs_background": "light"
          }
        }
      ]
    },
    {
      "cell_type": "markdown",
      "metadata": {
        "id": "-8fjnohoV_Mt"
      },
      "source": [
        "Si queremos mostrar la ecuación de la función, podemos usar: \r\n",
        "\r\n",
        "```\r\n",
        "print(\"El ajuste lineal para esta función es y = {0} x + {1}.\".format(z[0], z[1]))\r\n",
        "```\r\n",
        "siendo \"z\" el ajuste del polinomio de grado 1. z[0] la pendiente de la recta y  z[1] la ordenada al origen (intercept).\r\n",
        "\r\n",
        "Para más información, consultar la [documentación](https://matplotlib.org/contents.html).\r\n"
      ]
    },
    {
      "cell_type": "code",
      "metadata": {
        "id": "Q_OsmsdMwQAG",
        "colab": {
          "base_uri": "https://localhost:8080/"
        },
        "outputId": "c79fea1b-548c-498c-db81-751ca0a70a86"
      },
      "source": [
        "print(\"El ajuste para la función es y = {0:1.4E} x + {1:1.4E}.\".format(z[0], z[1]))"
      ],
      "execution_count": 33,
      "outputs": [
        {
          "output_type": "stream",
          "text": [
            "El ajuste para la función es y = 9.3106E-01 x + 1.3711E+00.\n"
          ],
          "name": "stdout"
        }
      ]
    },
    {
      "cell_type": "markdown",
      "metadata": {
        "id": "Y06fcm5wfR69"
      },
      "source": [
        "Ahora agreguemos barras de error. Para esto, utilizar la función `plt.errorbar()`. Va a ser necesario añadir otra variable: el y-error, que será nuestra regresión lineal menos los valores \"y\" dados. Los parámetros de la función `plt.errorbar()` serán estas tres variables.\r\n"
      ]
    },
    {
      "cell_type": "code",
      "metadata": {
        "colab": {
          "base_uri": "https://localhost:8080/",
          "height": 282
        },
        "id": "giUHN-aubqHX",
        "outputId": "4f9b0b86-caab-44b2-ba4d-05c42c2ab376"
      },
      "source": [
        "plt.scatter(x, y, label=\"scatter\")\n",
        "plt.xlabel=\"x values\"\n",
        "plt.ylabel=\"y values\"\n",
        "z = np.polyfit(x, y, 1)\n",
        "p = np.poly1d(z)\n",
        "plt.plot(x,p(x),\"r-\", label=\"trendline\")\n",
        "yerr=p(x)-y\n",
        "plt.errorbar(x, p(x), yerr, fmt='.k',label=\"error\")\n",
        "plt.legend()\n",
        "plt.show() \n",
        "print(\"El ajuste lineal para esta función es y = {0:1.4E} x + {1:1.4E}.\".format(z[0], z[1]))"
      ],
      "execution_count": 34,
      "outputs": [
        {
          "output_type": "display_data",
          "data": {
            "image/png": "[encoded data removed]",
            "text/plain": [
              "<Figure size 432x288 with 1 Axes>"
            ]
          },
          "metadata": {
            "tags": [],
            "needs_background": "light"
          }
        },
        {
          "output_type": "stream",
          "text": [
            "El ajuste lineal para esta función es y = 9.3106E-01 x + 1.3711E+00.\n"
          ],
          "name": "stdout"
        }
      ]
    }
  ]
}