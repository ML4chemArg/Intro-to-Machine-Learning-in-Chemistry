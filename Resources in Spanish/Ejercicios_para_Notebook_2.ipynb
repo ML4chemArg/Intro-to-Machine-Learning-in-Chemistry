{
  "nbformat": 4,
  "nbformat_minor": 0,
  "metadata": {
    "colab": {
      "name": "Ejercicios para Notebook 2.ipynb",
      "provenance": [],
      "collapsed_sections": []
    },
    "kernelspec": {
      "name": "python3",
      "display_name": "Python 3"
    }
  },
  "cells": [
    {
      "cell_type": "markdown",
      "metadata": {
        "id": "Gdfw7RY0UbCL"
      },
      "source": [
        "#Ejercicios para Notebook 2"
      ]
    },
    {
      "cell_type": "markdown",
      "metadata": {
        "id": "4IS77vdFUpEM"
      },
      "source": [
        "Les dejamos unos ejercicios para poner en práctica lo que charlamos en el Notebook 2. Deben completa los espacios vacíos (marcados con guión bajo _____) con el código que haga falta para obtener un resultado."
      ]
    },
    {
      "cell_type": "markdown",
      "metadata": {
        "id": "2SKDcuAYneaT"
      },
      "source": [
        "- Importar un Dataset\n",
        "- Plot de conteo, histogramas, kernel density estimation (KDE) y boxplots comparativos\n",
        "- Calcular intervalos de confianza\n",
        "- Test ANOVA \n",
        "- Introducción a la generacióón de números aleatorios"
      ]
    },
    {
      "cell_type": "markdown",
      "metadata": {
        "id": "eEAZ4sOOJieB"
      },
      "source": [
        "#Importar el dataset de vinos tintos y de vinos blancos"
      ]
    },
    {
      "cell_type": "markdown",
      "metadata": {
        "id": "sv-gD8uRLhj2"
      },
      "source": [
        "Importe los siguientes datasets, con los nombres corerspondientes utilizando la función pd.read\r\n",
        "https://archive.ics.uci.edu/ml/machine-learning-databases/wine-quality/winequality-red.csv (df_red) and https://archive.ics.uci.edu/ml/machine-learning-databases/wine-quality/winequality-white.csv\" (df_white)."
      ]
    },
    {
      "cell_type": "code",
      "metadata": {
        "id": "k-H-5WLcTvrr"
      },
      "source": [
        "import pandas as pd\r\n",
        "import seaborn as sns\r\n",
        "import matplotlib.pyplot as plt\r\n",
        "df_red =pd.read_csv(\"https://archive.ics.uci.edu/ml/machine-learning-databases/wine-quality/winequality-red.csv\", delimiter=\";\")\r\n",
        "df_white =pd.read_csv(\"https://archive.ics.uci.edu/ml/machine-learning-databases/wine-quality/winequality-white.csv\", delimiter=\";\")"
      ],
      "execution_count": null,
      "outputs": []
    },
    {
      "cell_type": "markdown",
      "metadata": {
        "id": "fABp8e2yQ7aW"
      },
      "source": [
        "Podemos contar cuántos datos hay en nuestro DataFrame para cada calidad. Visualice el código utilizado para los vinos tintos y repítalo para los blancos *sns.countplot* "
      ]
    },
    {
      "cell_type": "code",
      "metadata": {
        "colab": {
          "base_uri": "https://localhost:8080/",
          "height": 459
        },
        "id": "dXZyyBSfQmqR",
        "outputId": "9632a5e7-c867-449a-d4c2-0424b31630bd"
      },
      "source": [
        "plt.figure(figsize=(10, 6))\r\n",
        "sns.countplot(df_red[\"quality\"], palette=\"muted\")\r\n",
        "\r\n",
        "#Realícelo para vinos blancos\r\n",
        "sns.countplot(_____, palette=\"muted\")"
      ],
      "execution_count": null,
      "outputs": [
        {
          "output_type": "stream",
          "text": [
            "/usr/local/lib/python3.6/dist-packages/seaborn/_decorators.py:43: FutureWarning: Pass the following variable as a keyword arg: x. From version 0.12, the only valid positional argument will be `data`, and passing other arguments without an explicit keyword will result in an error or misinterpretation.\n",
            "  FutureWarning\n"
          ],
          "name": "stderr"
        },
        {
          "output_type": "execute_result",
          "data": {
            "text/plain": [
              "<matplotlib.axes._subplots.AxesSubplot at 0x7f5c5c145da0>"
            ]
          },
          "metadata": {
            "tags": []
          },
          "execution_count": 4
        },
        {
          "output_type": "display_data",
          "data": {
            "image/png": "[encoded data removed]",
            "text/plain": [
              "<Figure size 720x432 with 1 Axes>"
            ]
          },
          "metadata": {
            "tags": [],
            "needs_background": "light"
          }
        }
      ]
    },
    {
      "cell_type": "markdown",
      "metadata": {
        "id": "2zueWEV_b0Ks"
      },
      "source": [
        "Una buena forma de comparar los datos de una categoria es realizando boxplots paralelos.\r\n",
        "Hacer un boxplot comparativo (usando **sns.boxplot**) entre vino tinto y blanco con las categorías \"pH\" y \"alcohol\".\r\n",
        "\r\n",
        "TIP: No olvides utilizar **pd.concat** para tener los datos en un único DataFrame."
      ]
    },
    {
      "cell_type": "code",
      "metadata": {
        "id": "22gWE1_QPLOf",
        "colab": {
          "base_uri": "https://localhost:8080/",
          "height": 285
        },
        "outputId": "2d3ef2da-a538-4d30-8a2d-2970bbe2095a"
      },
      "source": [
        "df_pH = pd.concat([df_red[\"pH\"],df_white[\"pH\"]], ignore_index=True, axis=1)\n",
        "df_pH.columns = ['red', 'white']\n",
        "sns.boxplot(data=df_pH)"
      ],
      "execution_count": null,
      "outputs": [
        {
          "output_type": "execute_result",
          "data": {
            "text/plain": [
              "<matplotlib.axes._subplots.AxesSubplot at 0x7f5c5ab62a90>"
            ]
          },
          "metadata": {
            "tags": []
          },
          "execution_count": 7
        },
        {
          "output_type": "display_data",
          "data": {
            "image/png": "[encoded data removed]",
            "text/plain": [
              "<Figure size 432x288 with 1 Axes>"
            ]
          },
          "metadata": {
            "tags": []
          }
        }
      ]
    },
    {
      "cell_type": "code",
      "metadata": {
        "id": "FCsNoxO5ybFp"
      },
      "source": [
        "df_alc = pd._____([df_red[\"______\"],df_white[\"___\"]], ignore_index=True, axis=1)\n",
        "df_alc.columns = ['red', 'white']\n",
        "sns.boxplot(data=df_pH)"
      ],
      "execution_count": null,
      "outputs": []
    },
    {
      "cell_type": "markdown",
      "metadata": {
        "id": "AYUfmtl2ZBin"
      },
      "source": [
        "##Intervalo de confianza"
      ]
    },
    {
      "cell_type": "markdown",
      "metadata": {
        "id": "KB2EaPCUZqrH"
      },
      "source": [
        "En el Notebook 2 calculamos el intervalo de confianza para la categoría alcohol. Ahora, lo calcularemos para la \"Fixed acidity\" de los vinos blancos (df2) cuya calidad sea 3."
      ]
    },
    {
      "cell_type": "code",
      "metadata": {
        "colab": {
          "base_uri": "https://localhost:8080/"
        },
        "id": "cKRLE_P6ZPo7",
        "outputId": "4693a4c2-0d0a-4944-f67d-b26d0017dc76"
      },
      "source": [
        "import numpy as np\r\n",
        "\r\n",
        "df_quality3_fixedacidity=df2[df_white['quality'] == 3]['fixed acidity']\r\n",
        "mean = np.mean(df_quality3_fixedacidity)\r\n",
        "N = np.size(df_quality3_fixedacidity)\r\n",
        "SD = np.std(df_quality3_fixedacidity)\r\n",
        "SE = SD /np.sqrt(N)\r\n",
        "\r\n",
        "print(\"mean: %.2f N: %.2f Standard Error: %.2f\" % (mean, N, SE))"
      ],
      "execution_count": null,
      "outputs": [
        {
          "output_type": "stream",
          "text": [
            "mean: 7.60 N: 20.00 Standard Error: 0.38\n"
          ],
          "name": "stdout"
        }
      ]
    },
    {
      "cell_type": "markdown",
      "metadata": {
        "id": "ESHca6fFaqI6"
      },
      "source": [
        "Ahora calculemos los limites superior e inferior del intervalo"
      ]
    },
    {
      "cell_type": "code",
      "metadata": {
        "colab": {
          "base_uri": "https://localhost:8080/"
        },
        "id": "u3cv-eqvaysf",
        "outputId": "cea11865-7a37-4bc5-d4ed-d95da06baf2b"
      },
      "source": [
        "#La media se almacena en la varaible mean y el error estandar en la variable SE\r\n",
        "\r\n",
        "lower_limit = _____-1.96*_____\r\n",
        "upper_limit = _____+1.96*_____\r\n",
        "\r\n",
        "print(\"lower limit: \\t%.2f \\nmean: \\t\\t%.2f \\nupper limit: \\t%.2f\" % (lower_limit, mean, upper_limit))"
      ],
      "execution_count": null,
      "outputs": [
        {
          "output_type": "stream",
          "text": [
            "lower limit: \t6.86 \n",
            "mean: \t\t7.60 \n",
            "upper limit: \t8.34\n"
          ],
          "name": "stdout"
        }
      ]
    },
    {
      "cell_type": "markdown",
      "metadata": {
        "id": "PolfNHySOnPO"
      },
      "source": [
        "Obtenemos la media del pH de ambos tipos de vinos"
      ]
    },
    {
      "cell_type": "code",
      "metadata": {
        "id": "1hjzPzk1gBx3",
        "colab": {
          "base_uri": "https://localhost:8080/"
        },
        "outputId": "ccd56992-0ae6-4c03-b8c3-f19e18f91697"
      },
      "source": [
        "print(df_pH.mean())"
      ],
      "execution_count": null,
      "outputs": [
        {
          "output_type": "stream",
          "text": [
            "red      3.311113\n",
            "white    3.188267\n",
            "dtype: float64\n"
          ],
          "name": "stdout"
        }
      ]
    },
    {
      "cell_type": "markdown",
      "metadata": {
        "id": "gjNt_L186mXs"
      },
      "source": [
        "#ANOVA"
      ]
    },
    {
      "cell_type": "markdown",
      "metadata": {
        "id": "hbXTo_R0PRiu"
      },
      "source": [
        "Para el siguiente ejercicio, tendremos que comparar la media del contenido de \"sulphates\" de cada calidad de vinos tintos y blancos con un test ANOVA, al igual que lo hicimos con \"residual sugar\" en el Notebook 2. Primero, recomendamos utilizar el método **groupby** para resumir las medias de todos los grupos\r\n"
      ]
    },
    {
      "cell_type": "code",
      "metadata": {
        "colab": {
          "base_uri": "https://localhost:8080/",
          "height": 266
        },
        "id": "VMOJLQGt54q6",
        "outputId": "8ba56060-99e5-4384-9112-7b70eb0e5dd3"
      },
      "source": [
        "df_red.groupby([\"quality\"])[\"sulphates\"].describe()"
      ],
      "execution_count": null,
      "outputs": [
        {
          "output_type": "execute_result",
          "data": {
            "text/html": [
              "<div>\n",
              "<style scoped>\n",
              "    .dataframe tbody tr th:only-of-type {\n",
              "        vertical-align: middle;\n",
              "    }\n",
              "\n",
              "    .dataframe tbody tr th {\n",
              "        vertical-align: top;\n",
              "    }\n",
              "\n",
              "    .dataframe thead th {\n",
              "        text-align: right;\n",
              "    }\n",
              "</style>\n",
              "<table border=\"1\" class=\"dataframe\">\n",
              "  <thead>\n",
              "    <tr style=\"text-align: right;\">\n",
              "      <th></th>\n",
              "      <th>count</th>\n",
              "      <th>mean</th>\n",
              "      <th>std</th>\n",
              "      <th>min</th>\n",
              "      <th>25%</th>\n",
              "      <th>50%</th>\n",
              "      <th>75%</th>\n",
              "      <th>max</th>\n",
              "    </tr>\n",
              "    <tr>\n",
              "      <th>quality</th>\n",
              "      <th></th>\n",
              "      <th></th>\n",
              "      <th></th>\n",
              "      <th></th>\n",
              "      <th></th>\n",
              "      <th></th>\n",
              "      <th></th>\n",
              "      <th></th>\n",
              "    </tr>\n",
              "  </thead>\n",
              "  <tbody>\n",
              "    <tr>\n",
              "      <th>3</th>\n",
              "      <td>10.0</td>\n",
              "      <td>0.570000</td>\n",
              "      <td>0.122020</td>\n",
              "      <td>0.40</td>\n",
              "      <td>0.5125</td>\n",
              "      <td>0.545</td>\n",
              "      <td>0.615</td>\n",
              "      <td>0.86</td>\n",
              "    </tr>\n",
              "    <tr>\n",
              "      <th>4</th>\n",
              "      <td>53.0</td>\n",
              "      <td>0.596415</td>\n",
              "      <td>0.239391</td>\n",
              "      <td>0.33</td>\n",
              "      <td>0.4900</td>\n",
              "      <td>0.560</td>\n",
              "      <td>0.600</td>\n",
              "      <td>2.00</td>\n",
              "    </tr>\n",
              "    <tr>\n",
              "      <th>5</th>\n",
              "      <td>681.0</td>\n",
              "      <td>0.620969</td>\n",
              "      <td>0.171062</td>\n",
              "      <td>0.37</td>\n",
              "      <td>0.5300</td>\n",
              "      <td>0.580</td>\n",
              "      <td>0.660</td>\n",
              "      <td>1.98</td>\n",
              "    </tr>\n",
              "    <tr>\n",
              "      <th>6</th>\n",
              "      <td>638.0</td>\n",
              "      <td>0.675329</td>\n",
              "      <td>0.158650</td>\n",
              "      <td>0.40</td>\n",
              "      <td>0.5800</td>\n",
              "      <td>0.640</td>\n",
              "      <td>0.750</td>\n",
              "      <td>1.95</td>\n",
              "    </tr>\n",
              "    <tr>\n",
              "      <th>7</th>\n",
              "      <td>199.0</td>\n",
              "      <td>0.741256</td>\n",
              "      <td>0.135639</td>\n",
              "      <td>0.39</td>\n",
              "      <td>0.6500</td>\n",
              "      <td>0.740</td>\n",
              "      <td>0.830</td>\n",
              "      <td>1.36</td>\n",
              "    </tr>\n",
              "    <tr>\n",
              "      <th>8</th>\n",
              "      <td>18.0</td>\n",
              "      <td>0.767778</td>\n",
              "      <td>0.115379</td>\n",
              "      <td>0.63</td>\n",
              "      <td>0.6900</td>\n",
              "      <td>0.740</td>\n",
              "      <td>0.820</td>\n",
              "      <td>1.10</td>\n",
              "    </tr>\n",
              "  </tbody>\n",
              "</table>\n",
              "</div>"
            ],
            "text/plain": [
              "         count      mean       std   min     25%    50%    75%   max\n",
              "quality                                                             \n",
              "3         10.0  0.570000  0.122020  0.40  0.5125  0.545  0.615  0.86\n",
              "4         53.0  0.596415  0.239391  0.33  0.4900  0.560  0.600  2.00\n",
              "5        681.0  0.620969  0.171062  0.37  0.5300  0.580  0.660  1.98\n",
              "6        638.0  0.675329  0.158650  0.40  0.5800  0.640  0.750  1.95\n",
              "7        199.0  0.741256  0.135639  0.39  0.6500  0.740  0.830  1.36\n",
              "8         18.0  0.767778  0.115379  0.63  0.6900  0.740  0.820  1.10"
            ]
          },
          "metadata": {
            "tags": []
          },
          "execution_count": 11
        }
      ]
    },
    {
      "cell_type": "code",
      "metadata": {
        "colab": {
          "base_uri": "https://localhost:8080/",
          "height": 297
        },
        "id": "RVD220u37cDN",
        "outputId": "5d165c95-8a21-400b-aaab-d47ff765f01b"
      },
      "source": [
        "df_white.groupby([\"quality\"])[\"sulphates\"].describe()"
      ],
      "execution_count": null,
      "outputs": [
        {
          "output_type": "execute_result",
          "data": {
            "text/html": [
              "<div>\n",
              "<style scoped>\n",
              "    .dataframe tbody tr th:only-of-type {\n",
              "        vertical-align: middle;\n",
              "    }\n",
              "\n",
              "    .dataframe tbody tr th {\n",
              "        vertical-align: top;\n",
              "    }\n",
              "\n",
              "    .dataframe thead th {\n",
              "        text-align: right;\n",
              "    }\n",
              "</style>\n",
              "<table border=\"1\" class=\"dataframe\">\n",
              "  <thead>\n",
              "    <tr style=\"text-align: right;\">\n",
              "      <th></th>\n",
              "      <th>count</th>\n",
              "      <th>mean</th>\n",
              "      <th>std</th>\n",
              "      <th>min</th>\n",
              "      <th>25%</th>\n",
              "      <th>50%</th>\n",
              "      <th>75%</th>\n",
              "      <th>max</th>\n",
              "    </tr>\n",
              "    <tr>\n",
              "      <th>quality</th>\n",
              "      <th></th>\n",
              "      <th></th>\n",
              "      <th></th>\n",
              "      <th></th>\n",
              "      <th></th>\n",
              "      <th></th>\n",
              "      <th></th>\n",
              "      <th></th>\n",
              "    </tr>\n",
              "  </thead>\n",
              "  <tbody>\n",
              "    <tr>\n",
              "      <th>3</th>\n",
              "      <td>20.0</td>\n",
              "      <td>0.474500</td>\n",
              "      <td>0.119845</td>\n",
              "      <td>0.28</td>\n",
              "      <td>0.38</td>\n",
              "      <td>0.44</td>\n",
              "      <td>0.5425</td>\n",
              "      <td>0.74</td>\n",
              "    </tr>\n",
              "    <tr>\n",
              "      <th>4</th>\n",
              "      <td>163.0</td>\n",
              "      <td>0.476135</td>\n",
              "      <td>0.117973</td>\n",
              "      <td>0.25</td>\n",
              "      <td>0.38</td>\n",
              "      <td>0.47</td>\n",
              "      <td>0.5400</td>\n",
              "      <td>0.87</td>\n",
              "    </tr>\n",
              "    <tr>\n",
              "      <th>5</th>\n",
              "      <td>1457.0</td>\n",
              "      <td>0.482203</td>\n",
              "      <td>0.098205</td>\n",
              "      <td>0.27</td>\n",
              "      <td>0.42</td>\n",
              "      <td>0.47</td>\n",
              "      <td>0.5300</td>\n",
              "      <td>0.88</td>\n",
              "    </tr>\n",
              "    <tr>\n",
              "      <th>6</th>\n",
              "      <td>2198.0</td>\n",
              "      <td>0.491106</td>\n",
              "      <td>0.113357</td>\n",
              "      <td>0.23</td>\n",
              "      <td>0.41</td>\n",
              "      <td>0.48</td>\n",
              "      <td>0.5500</td>\n",
              "      <td>1.06</td>\n",
              "    </tr>\n",
              "    <tr>\n",
              "      <th>7</th>\n",
              "      <td>880.0</td>\n",
              "      <td>0.503102</td>\n",
              "      <td>0.130195</td>\n",
              "      <td>0.22</td>\n",
              "      <td>0.41</td>\n",
              "      <td>0.48</td>\n",
              "      <td>0.5800</td>\n",
              "      <td>1.08</td>\n",
              "    </tr>\n",
              "    <tr>\n",
              "      <th>8</th>\n",
              "      <td>175.0</td>\n",
              "      <td>0.486229</td>\n",
              "      <td>0.147073</td>\n",
              "      <td>0.25</td>\n",
              "      <td>0.38</td>\n",
              "      <td>0.46</td>\n",
              "      <td>0.5850</td>\n",
              "      <td>0.95</td>\n",
              "    </tr>\n",
              "    <tr>\n",
              "      <th>9</th>\n",
              "      <td>5.0</td>\n",
              "      <td>0.466000</td>\n",
              "      <td>0.092628</td>\n",
              "      <td>0.36</td>\n",
              "      <td>0.42</td>\n",
              "      <td>0.46</td>\n",
              "      <td>0.4800</td>\n",
              "      <td>0.61</td>\n",
              "    </tr>\n",
              "  </tbody>\n",
              "</table>\n",
              "</div>"
            ],
            "text/plain": [
              "          count      mean       std   min   25%   50%     75%   max\n",
              "quality                                                            \n",
              "3          20.0  0.474500  0.119845  0.28  0.38  0.44  0.5425  0.74\n",
              "4         163.0  0.476135  0.117973  0.25  0.38  0.47  0.5400  0.87\n",
              "5        1457.0  0.482203  0.098205  0.27  0.42  0.47  0.5300  0.88\n",
              "6        2198.0  0.491106  0.113357  0.23  0.41  0.48  0.5500  1.06\n",
              "7         880.0  0.503102  0.130195  0.22  0.41  0.48  0.5800  1.08\n",
              "8         175.0  0.486229  0.147073  0.25  0.38  0.46  0.5850  0.95\n",
              "9           5.0  0.466000  0.092628  0.36  0.42  0.46  0.4800  0.61"
            ]
          },
          "metadata": {
            "tags": []
          },
          "execution_count": 12
        }
      ]
    },
    {
      "cell_type": "markdown",
      "metadata": {
        "id": "-_mup2506uQn"
      },
      "source": [
        "Ahora realicemos el test ANOVA. Qué resultados esperan?\r\n",
        "Recordar que un alto *p-valor* (>0.025, llamado en este test \"p-unc\") indica que la media de \"sulphates\" es la misma en todas las categorias de vinos analizadas.\r\n",
        "Primero debemos instalar la libreria *pingouin* e importarla."
      ]
    },
    {
      "cell_type": "code",
      "metadata": {
        "colab": {
          "base_uri": "https://localhost:8080/"
        },
        "id": "PocQdoYk8AOE",
        "outputId": "c81ec0f2-781b-4edb-84b5-5afded107989"
      },
      "source": [
        "!pip install ______\r\n",
        "import _______ as pg"
      ],
      "execution_count": null,
      "outputs": [
        {
          "output_type": "stream",
          "text": [
            "Collecting pingouin\n",
            "\u001b[?25l  Downloading https://files.pythonhosted.org/packages/e6/5f/4618f878765a8b7037b8831f19105c5c2764b26e5e9afa4a29c58fc11d26/pingouin-0.3.8.tar.gz (223kB)\n",
            "\r\u001b[K     |█▌                              | 10kB 17.1MB/s eta 0:00:01\r\u001b[K     |███                             | 20kB 23.6MB/s eta 0:00:01\r\u001b[K     |████▍                           | 30kB 19.6MB/s eta 0:00:01\r\u001b[K     |█████▉                          | 40kB 15.2MB/s eta 0:00:01\r\u001b[K     |███████▍                        | 51kB 16.6MB/s eta 0:00:01\r\u001b[K     |████████▉                       | 61kB 17.1MB/s eta 0:00:01\r\u001b[K     |██████████▎                     | 71kB 11.6MB/s eta 0:00:01\r\u001b[K     |███████████▊                    | 81kB 12.5MB/s eta 0:00:01\r\u001b[K     |█████████████▏                  | 92kB 11.8MB/s eta 0:00:01\r\u001b[K     |██████████████▊                 | 102kB 11.6MB/s eta 0:00:01\r\u001b[K     |████████████████▏               | 112kB 11.6MB/s eta 0:00:01\r\u001b[K     |█████████████████▋              | 122kB 11.6MB/s eta 0:00:01\r\u001b[K     |███████████████████             | 133kB 11.6MB/s eta 0:00:01\r\u001b[K     |████████████████████▌           | 143kB 11.6MB/s eta 0:00:01\r\u001b[K     |██████████████████████          | 153kB 11.6MB/s eta 0:00:01\r\u001b[K     |███████████████████████▌        | 163kB 11.6MB/s eta 0:00:01\r\u001b[K     |█████████████████████████       | 174kB 11.6MB/s eta 0:00:01\r\u001b[K     |██████████████████████████▍     | 184kB 11.6MB/s eta 0:00:01\r\u001b[K     |████████████████████████████    | 194kB 11.6MB/s eta 0:00:01\r\u001b[K     |█████████████████████████████▍  | 204kB 11.6MB/s eta 0:00:01\r\u001b[K     |██████████████████████████████▉ | 215kB 11.6MB/s eta 0:00:01\r\u001b[K     |████████████████████████████████| 225kB 11.6MB/s \n",
            "\u001b[?25hRequirement already satisfied: numpy>=1.15 in /usr/local/lib/python3.6/dist-packages (from pingouin) (1.19.4)\n",
            "Requirement already satisfied: scipy>=1.3 in /usr/local/lib/python3.6/dist-packages (from pingouin) (1.4.1)\n",
            "Requirement already satisfied: pandas>=0.24 in /usr/local/lib/python3.6/dist-packages (from pingouin) (1.1.5)\n",
            "Requirement already satisfied: matplotlib>=3.0.2 in /usr/local/lib/python3.6/dist-packages (from pingouin) (3.2.2)\n",
            "Requirement already satisfied: seaborn>=0.9.0 in /usr/local/lib/python3.6/dist-packages (from pingouin) (0.11.0)\n",
            "Requirement already satisfied: statsmodels>=0.10.0 in /usr/local/lib/python3.6/dist-packages (from pingouin) (0.10.2)\n",
            "Requirement already satisfied: scikit-learn in /usr/local/lib/python3.6/dist-packages (from pingouin) (0.22.2.post1)\n",
            "Collecting pandas_flavor>=0.1.2\n",
            "  Downloading https://files.pythonhosted.org/packages/9a/57/7fbcff4c0961ed190ac5fcb0bd8194152ee1ee6487edf64fdbae16e2bc4b/pandas_flavor-0.2.0-py2.py3-none-any.whl\n",
            "Collecting outdated\n",
            "  Downloading https://files.pythonhosted.org/packages/86/70/2f166266438a30e94140f00c99c0eac1c45807981052a1d4c123660e1323/outdated-0.2.0.tar.gz\n",
            "Requirement already satisfied: tabulate in /usr/local/lib/python3.6/dist-packages (from pingouin) (0.8.7)\n",
            "Requirement already satisfied: python-dateutil>=2.7.3 in /usr/local/lib/python3.6/dist-packages (from pandas>=0.24->pingouin) (2.8.1)\n",
            "Requirement already satisfied: pytz>=2017.2 in /usr/local/lib/python3.6/dist-packages (from pandas>=0.24->pingouin) (2018.9)\n",
            "Requirement already satisfied: cycler>=0.10 in /usr/local/lib/python3.6/dist-packages (from matplotlib>=3.0.2->pingouin) (0.10.0)\n",
            "Requirement already satisfied: pyparsing!=2.0.4,!=2.1.2,!=2.1.6,>=2.0.1 in /usr/local/lib/python3.6/dist-packages (from matplotlib>=3.0.2->pingouin) (2.4.7)\n",
            "Requirement already satisfied: kiwisolver>=1.0.1 in /usr/local/lib/python3.6/dist-packages (from matplotlib>=3.0.2->pingouin) (1.3.1)\n",
            "Requirement already satisfied: patsy>=0.4.0 in /usr/local/lib/python3.6/dist-packages (from statsmodels>=0.10.0->pingouin) (0.5.1)\n",
            "Requirement already satisfied: joblib>=0.11 in /usr/local/lib/python3.6/dist-packages (from scikit-learn->pingouin) (1.0.0)\n",
            "Requirement already satisfied: xarray in /usr/local/lib/python3.6/dist-packages (from pandas_flavor>=0.1.2->pingouin) (0.15.1)\n",
            "Collecting littleutils\n",
            "  Downloading https://files.pythonhosted.org/packages/4e/b1/bb4e06f010947d67349f863b6a2ad71577f85590180a935f60543f622652/littleutils-0.2.2.tar.gz\n",
            "Requirement already satisfied: requests in /usr/local/lib/python3.6/dist-packages (from outdated->pingouin) (2.23.0)\n",
            "Requirement already satisfied: six>=1.5 in /usr/local/lib/python3.6/dist-packages (from python-dateutil>=2.7.3->pandas>=0.24->pingouin) (1.15.0)\n",
            "Requirement already satisfied: setuptools>=41.2 in /usr/local/lib/python3.6/dist-packages (from xarray->pandas_flavor>=0.1.2->pingouin) (51.0.0)\n",
            "Requirement already satisfied: chardet<4,>=3.0.2 in /usr/local/lib/python3.6/dist-packages (from requests->outdated->pingouin) (3.0.4)\n",
            "Requirement already satisfied: urllib3!=1.25.0,!=1.25.1,<1.26,>=1.21.1 in /usr/local/lib/python3.6/dist-packages (from requests->outdated->pingouin) (1.24.3)\n",
            "Requirement already satisfied: certifi>=2017.4.17 in /usr/local/lib/python3.6/dist-packages (from requests->outdated->pingouin) (2020.12.5)\n",
            "Requirement already satisfied: idna<3,>=2.5 in /usr/local/lib/python3.6/dist-packages (from requests->outdated->pingouin) (2.10)\n",
            "Building wheels for collected packages: pingouin, outdated, littleutils\n",
            "  Building wheel for pingouin (setup.py) ... \u001b[?25l\u001b[?25hdone\n",
            "  Created wheel for pingouin: filename=pingouin-0.3.8-cp36-none-any.whl size=221687 sha256=92023fd6265958fab132e1f4b523cbabc1e7178861bd5f42bb6a68785bc6b136\n",
            "  Stored in directory: /root/.cache/pip/wheels/d6/9e/53/f885f73f29cf7c8cac3d8f4b1532bbfef2f5eb543946ac9055\n",
            "  Building wheel for outdated (setup.py) ... \u001b[?25l\u001b[?25hdone\n",
            "  Created wheel for outdated: filename=outdated-0.2.0-cp36-none-any.whl size=4961 sha256=7bbf89102125e3961c7bb049ab2c544f9a1b3098959dcb69dafe089a1bf946cb\n",
            "  Stored in directory: /root/.cache/pip/wheels/fd/7c/ef/814f514d31197310872b5abf353feb8fef9d67ee658e1e7e39\n",
            "  Building wheel for littleutils (setup.py) ... \u001b[?25l\u001b[?25hdone\n",
            "  Created wheel for littleutils: filename=littleutils-0.2.2-cp36-none-any.whl size=7051 sha256=49697c41248f3a0cc81e9cd28438b1f96952d9c57f95cdfd340ce1f2338bd089\n",
            "  Stored in directory: /root/.cache/pip/wheels/53/16/9f/ac67d15c40243754fd73f620e1b9b6dedc20492ecc19a2bae1\n",
            "Successfully built pingouin outdated littleutils\n",
            "Installing collected packages: pandas-flavor, littleutils, outdated, pingouin\n",
            "Successfully installed littleutils-0.2.2 outdated-0.2.0 pandas-flavor-0.2.0 pingouin-0.3.8\n"
          ],
          "name": "stdout"
        }
      ]
    },
    {
      "cell_type": "code",
      "metadata": {
        "colab": {
          "base_uri": "https://localhost:8080/",
          "height": 80
        },
        "id": "o5rOh1D7IMcj",
        "outputId": "39f4cd64-ef43-4bea-a0fa-20b1b80e773b"
      },
      "source": [
        "df_red.anova(dv=\"sulphates\", between=\"quality\")"
      ],
      "execution_count": null,
      "outputs": [
        {
          "output_type": "execute_result",
          "data": {
            "text/html": [
              "<div>\n",
              "<style scoped>\n",
              "    .dataframe tbody tr th:only-of-type {\n",
              "        vertical-align: middle;\n",
              "    }\n",
              "\n",
              "    .dataframe tbody tr th {\n",
              "        vertical-align: top;\n",
              "    }\n",
              "\n",
              "    .dataframe thead th {\n",
              "        text-align: right;\n",
              "    }\n",
              "</style>\n",
              "<table border=\"1\" class=\"dataframe\">\n",
              "  <thead>\n",
              "    <tr style=\"text-align: right;\">\n",
              "      <th></th>\n",
              "      <th>Source</th>\n",
              "      <th>ddof1</th>\n",
              "      <th>ddof2</th>\n",
              "      <th>F</th>\n",
              "      <th>p-unc</th>\n",
              "      <th>np2</th>\n",
              "    </tr>\n",
              "  </thead>\n",
              "  <tbody>\n",
              "    <tr>\n",
              "      <th>0</th>\n",
              "      <td>quality</td>\n",
              "      <td>5</td>\n",
              "      <td>1593</td>\n",
              "      <td>22.273376</td>\n",
              "      <td>1.225890e-21</td>\n",
              "      <td>0.065342</td>\n",
              "    </tr>\n",
              "  </tbody>\n",
              "</table>\n",
              "</div>"
            ],
            "text/plain": [
              "    Source  ddof1  ddof2          F         p-unc       np2\n",
              "0  quality      5   1593  22.273376  1.225890e-21  0.065342"
            ]
          },
          "metadata": {
            "tags": []
          },
          "execution_count": 18
        }
      ]
    },
    {
      "cell_type": "code",
      "metadata": {
        "colab": {
          "base_uri": "https://localhost:8080/",
          "height": 80
        },
        "id": "CLJOPqKDIdIb",
        "outputId": "db959edf-0a49-40fa-caf1-f672f950c9fc"
      },
      "source": [
        "df_white.anova(dv=\"sulphates\", between=\"quality\")"
      ],
      "execution_count": null,
      "outputs": [
        {
          "output_type": "execute_result",
          "data": {
            "text/html": [
              "<div>\n",
              "<style scoped>\n",
              "    .dataframe tbody tr th:only-of-type {\n",
              "        vertical-align: middle;\n",
              "    }\n",
              "\n",
              "    .dataframe tbody tr th {\n",
              "        vertical-align: top;\n",
              "    }\n",
              "\n",
              "    .dataframe thead th {\n",
              "        text-align: right;\n",
              "    }\n",
              "</style>\n",
              "<table border=\"1\" class=\"dataframe\">\n",
              "  <thead>\n",
              "    <tr style=\"text-align: right;\">\n",
              "      <th></th>\n",
              "      <th>Source</th>\n",
              "      <th>ddof1</th>\n",
              "      <th>ddof2</th>\n",
              "      <th>F</th>\n",
              "      <th>p-unc</th>\n",
              "      <th>np2</th>\n",
              "    </tr>\n",
              "  </thead>\n",
              "  <tbody>\n",
              "    <tr>\n",
              "      <th>0</th>\n",
              "      <td>quality</td>\n",
              "      <td>6</td>\n",
              "      <td>4891</td>\n",
              "      <td>3.642317</td>\n",
              "      <td>0.001308</td>\n",
              "      <td>0.004448</td>\n",
              "    </tr>\n",
              "  </tbody>\n",
              "</table>\n",
              "</div>"
            ],
            "text/plain": [
              "    Source  ddof1  ddof2         F     p-unc       np2\n",
              "0  quality      6   4891  3.642317  0.001308  0.004448"
            ]
          },
          "metadata": {
            "tags": []
          },
          "execution_count": 19
        }
      ]
    },
    {
      "cell_type": "markdown",
      "metadata": {
        "id": "J94CtuoC8P1U"
      },
      "source": [
        "Cómo interpreta estos resultados en los vinos tintos y en los blancos?"
      ]
    },
    {
      "cell_type": "markdown",
      "metadata": {
        "id": "xwNeAkz-9Qcl"
      },
      "source": [
        "\r\n",
        "\r\n",
        "---\r\n",
        "#Ejercicios Avanzados / de Investigación\r\n",
        "\r\n",
        "\r\n",
        "---\r\n",
        "\r\n",
        "\r\n",
        "\r\n",
        "\r\n",
        "\r\n"
      ]
    },
    {
      "cell_type": "markdown",
      "metadata": {
        "id": "Y3W_kXgZUsJy"
      },
      "source": [
        "Queremos hacer histogramas de todas las categorías y mostrarlas como una matriz.\r\n",
        "Complete el código parar repetir los histogramas de las categorias de vino blanco, utilizando color azul.\r\n"
      ]
    },
    {
      "cell_type": "code",
      "metadata": {
        "id": "7ys1fiAljbJ-",
        "colab": {
          "base_uri": "https://localhost:8080/",
          "height": 719
        },
        "outputId": "d33fe2c3-becc-453b-f95c-9aa7d5aa9111"
      },
      "source": [
        "sns.set()\n",
        "df_red.hist(figsize=(12,12), color='red')\n",
        "plt.show()\n",
        "\n",
        "#Repetir para vino blanco en color azul\n",
        "_____.hist(figsize=(12,12), color='____')\n",
        "plt.show()"
      ],
      "execution_count": null,
      "outputs": [
        {
          "output_type": "display_data",
          "data": {
            "image/png": "[encoded data removed]",
            "text/plain": [
              "<Figure size 864x864 with 12 Axes>"
            ]
          },
          "metadata": {
            "tags": []
          }
        }
      ]
    },
    {
      "cell_type": "markdown",
      "metadata": {
        "id": "E1FvypkdY7e3"
      },
      "source": [
        "Queremos ver el histograma de la variable \"alcohol\" con un grááfico de KDE. Los histogramas y la KDE pueden combinarse usando **sns.distplot(*dataset*.*category*, kde=true)**. Vea el ejemplo del vino tinto y repítalo con el vino blanco."
      ]
    },
    {
      "cell_type": "code",
      "metadata": {
        "id": "vx5TBYnwov1N",
        "colab": {
          "base_uri": "https://localhost:8080/",
          "height": 356
        },
        "outputId": "744276d7-e9c6-42e9-abf7-079b83bea8cb"
      },
      "source": [
        "sns.distplot(df_red.alcohol, kde=True)"
      ],
      "execution_count": null,
      "outputs": [
        {
          "output_type": "stream",
          "text": [
            "/usr/local/lib/python3.6/dist-packages/seaborn/distributions.py:2551: FutureWarning: `distplot` is a deprecated function and will be removed in a future version. Please adapt your code to use either `displot` (a figure-level function with similar flexibility) or `histplot` (an axes-level function for histograms).\n",
            "  warnings.warn(msg, FutureWarning)\n"
          ],
          "name": "stderr"
        },
        {
          "output_type": "execute_result",
          "data": {
            "text/plain": [
              "<matplotlib.axes._subplots.AxesSubplot at 0x7f5c5b70ef28>"
            ]
          },
          "metadata": {
            "tags": []
          },
          "execution_count": 6
        },
        {
          "output_type": "display_data",
          "data": {
            "image/png": "[encoded data removed]",
            "text/plain": [
              "<Figure size 432x288 with 1 Axes>"
            ]
          },
          "metadata": {
            "tags": []
          }
        }
      ]
    },
    {
      "cell_type": "code",
      "metadata": {
        "id": "sYl4v8ecyAEy"
      },
      "source": [
        "sns.distplot(____.alcohol, kde=____)"
      ],
      "execution_count": null,
      "outputs": []
    },
    {
      "cell_type": "markdown",
      "metadata": {
        "id": "DlLbOjrRSI4M"
      },
      "source": [
        "#Usar la función de generación de números aleatorios"
      ]
    },
    {
      "cell_type": "markdown",
      "metadata": {
        "id": "XmnqhtdpSsJT"
      },
      "source": [
        "El módulo **random** de las librerias estándar de Python incuyen un set de funciones que permiten obtener números aleatorios -o pseudo-aleatorios, para ser estrictos- de distintas distribuciones.\r\n",
        "\r\n",
        "(Por qué son números pseudo-aleatorios y no aleatorios? https://pybonacci.org/2013/01/11/numeros-aleatorios-en-python-con-numpy-y-scipy/)\r\n",
        "\r\n",
        "\r\n",
        "\r\n"
      ]
    },
    {
      "cell_type": "markdown",
      "metadata": {
        "id": "2qtdMl5UVp24"
      },
      "source": [
        "La función **np.random.randint (low, high = None, size = None, dtype = int)**\r\n",
        "Devuelve números enteros desde *low* (inclusive) hasta *high* (no inclusive).\r\n",
        "\r\n",
        "Si no especificamos el parametro *High*, los números se muestrean en el intervalo [0, low). \r\n",
        "\r\n",
        "Usen la funcióón mencionada para obtener un *array* de 10 elementos enteros muestreados aleatoriamente, que sean únicamente 0 o 1.\r\n",
        "\r\n",
        "Obs: En Python se comienza a contar desde cero."
      ]
    },
    {
      "cell_type": "code",
      "metadata": {
        "colab": {
          "base_uri": "https://localhost:8080/"
        },
        "id": "0-qGL8LfVB34",
        "outputId": "79dfcf98-fed8-4387-faf2-cad97390321f"
      },
      "source": [
        "np.random.randint(low=_____, size=_____)"
      ],
      "execution_count": null,
      "outputs": [
        {
          "output_type": "execute_result",
          "data": {
            "text/plain": [
              "array([0, 1, 0, 1, 1, 1, 1, 0, 1, 1])"
            ]
          },
          "metadata": {
            "tags": []
          },
          "execution_count": 7
        }
      ]
    },
    {
      "cell_type": "markdown",
      "metadata": {
        "id": "9sGtOcYNZaRQ"
      },
      "source": [
        "obs: Cada vez que ejecutamos la celda los valores cambian, pero siempre respetan los parámetros requeridos (low, high, size)"
      ]
    },
    {
      "cell_type": "markdown",
      "metadata": {
        "id": "aKxfrxgfXra4"
      },
      "source": [
        "Utilizando la misma función, obtener una matriz de 2x4 donde cada elemento sea un entero entre 0 y 4.\r\n",
        "Help: to build a 2x4 matrix use size = (i, j), where i: row, j: column"
      ]
    },
    {
      "cell_type": "code",
      "metadata": {
        "colab": {
          "base_uri": "https://localhost:8080/"
        },
        "id": "J8NwfxV9VHio",
        "outputId": "3d3946f8-4c9c-421e-89a5-f1127aa2c2d8"
      },
      "source": [
        "np.random.randint(low=____, size=(2, 4)) #size=(2,4) aclara que la matriz tiene que ser de dos filas y cuatro columnas."
      ],
      "execution_count": null,
      "outputs": [
        {
          "output_type": "execute_result",
          "data": {
            "text/plain": [
              "array([[0, 0, 4, 1],\n",
              "       [4, 3, 4, 1]])"
            ]
          },
          "metadata": {
            "tags": []
          },
          "execution_count": 8
        }
      ]
    },
    {
      "cell_type": "markdown",
      "metadata": {
        "id": "Q2J2l6UXkuTW"
      },
      "source": [
        "Otra función útil es **numpy.random.(nombre_de_distribución)** que genera números aleatorios de la distribución requerida.\r\n",
        "\r\n",
        "Por ejemplo, con la función **np.random.poisson(lambda=None, size=None)**\r\n",
        " , podemos tener muestras obtenidas de una distribución Poisson. Los parámetros de la distribución suelen indicarse entre paréntesis."
      ]
    },
    {
      "cell_type": "code",
      "metadata": {
        "id": "C-1kJEbIQNVx",
        "colab": {
          "base_uri": "https://localhost:8080/"
        },
        "outputId": "86cc6058-597b-40e0-c2ff-49b352928d10"
      },
      "source": [
        "np.random.poisson(2.5, 5)  "
      ],
      "execution_count": null,
      "outputs": [
        {
          "output_type": "execute_result",
          "data": {
            "text/plain": [
              "array([2, 2, 0, 0, 3])"
            ]
          },
          "metadata": {
            "tags": []
          },
          "execution_count": 2
        }
      ]
    },
    {
      "cell_type": "markdown",
      "metadata": {
        "id": "dGCuNr_7lfSK"
      },
      "source": [
        "Pruebe lo mismo utilizando la distribución binomial *numpy.random.binomial(n, p, size=None)* con n=10, p=0.5 y size=30\r\n"
      ]
    },
    {
      "cell_type": "code",
      "metadata": {
        "colab": {
          "base_uri": "https://localhost:8080/"
        },
        "id": "Uo-5Crr5leb1",
        "outputId": "0dc26bde-fefd-4471-aed7-b804734aa1ed"
      },
      "source": [
        "np.random._______(10, 0.5, 30)"
      ],
      "execution_count": null,
      "outputs": [
        {
          "output_type": "execute_result",
          "data": {
            "text/plain": [
              "array([5, 7, 4, 7, 6, 5, 5, 5, 3, 3, 5, 2, 7, 6, 3, 7, 4, 7, 6, 4, 6, 2,\n",
              "       6, 4, 7, 5, 5, 4, 6, 3])"
            ]
          },
          "metadata": {
            "tags": []
          },
          "execution_count": 12
        }
      ]
    },
    {
      "cell_type": "markdown",
      "metadata": {
        "id": "jRgU7JcGmqL0"
      },
      "source": [
        "Utilizaremos la libreria matplotlib para graficar. La importaremos.\r\n",
        "\r\n",
        "Crearemos un histograma con datos muestreados de una distribución normal **np.random.normal(mu,sigma,size)**. Utilicen un valor de media 0, sigma 0.2 y tamaño de muestra igual a 1000. "
      ]
    },
    {
      "cell_type": "code",
      "metadata": {
        "colab": {
          "base_uri": "https://localhost:8080/",
          "height": 295
        },
        "id": "lSMukmJDXpQm",
        "outputId": "e66d7daf-c4a6-4539-fb61-ed0f333280e3"
      },
      "source": [
        "import matplotlib.pyplot as plt\n",
        "\n",
        "# we generate the data\n",
        "datos = np.random.normal(mu=___,sigma=___,size=1000)\n",
        "\n",
        "# histogram of normal distribution\n",
        "plt.hist(datos, 20)\n",
        "plt.ylabel('Frecuencia')\n",
        "plt.xlabel('Valor')\n",
        "plt.title('Distribución normal')\n",
        "plt.show()"
      ],
      "execution_count": null,
      "outputs": [
        {
          "output_type": "display_data",
          "data": {
            "image/png": "[encoded data removed]",
            "text/plain": [
              "<Figure size 432x288 with 1 Axes>"
            ]
          },
          "metadata": {
            "tags": [],
            "needs_background": "light"
          }
        }
      ]
    },
    {
      "cell_type": "markdown",
      "metadata": {
        "id": "xN5EY8g1B5AT"
      },
      "source": [
        "Prueben haciéndolo con una distribución Poisson con parámetro lambda igual a 2.5.\r\n",
        "Ayuda: Usar la función **np.random.poisson(lambda, size)**"
      ]
    },
    {
      "cell_type": "code",
      "metadata": {
        "colab": {
          "base_uri": "https://localhost:8080/",
          "height": 301
        },
        "id": "D5RQId3OCCVF",
        "outputId": "26b650b4-c562-4671-8fd3-68ff63cd4089"
      },
      "source": [
        "import matplotlib.pyplot as plt\r\n",
        "\r\n",
        "# we generate the data\r\n",
        "lambd = 2.5 # lambda parameter of Poisson distribution\r\n",
        "size = 1000 # amount of random numbers sampled from the distribution\r\n",
        "datos = np.random.poisson(lambd, size)  #creating sample data\r\n",
        "\r\n",
        "# histogram of poisson distribution sampled data\r\n",
        "plt.hist(datos, 10)\r\n",
        "plt.ylabel('Frecuencia')\r\n",
        "plt.xlabel('Valor')\r\n",
        "plt.title('Distribución Poisson')\r\n",
        "plt.show()"
      ],
      "execution_count": null,
      "outputs": [
        {
          "output_type": "display_data",
          "data": {
            "image/png": "[encoded data removed]",
            "text/plain": [
              "<Figure size 432x288 with 1 Axes>"
            ]
          },
          "metadata": {
            "tags": []
          }
        }
      ]
    },
    {
      "cell_type": "markdown",
      "metadata": {
        "id": "2-OGRuPxBhMu"
      },
      "source": [
        "#Ejercicio extra: Teorema central del Límite"
      ]
    },
    {
      "cell_type": "markdown",
      "metadata": {
        "id": "f_RkCXUqBspM"
      },
      "source": [
        "Hagamos histogramas con muestras de tamaño 1000 provenientes de las distribuciones Binomial, Exponencial, Poisson y Geométrica. Utilicemos los parámetros _p_ = 0.9  y _n_ = 1 (binomial), _lambda_ = 1.0 (poisson), _scale_ = 2.0 (exponencial) y un _q_ = 0.5 (geometrica). \n",
        "Inténtelo nuevamente con muestras que van incrementando su tamaño entre 1 y 20000. Luego, grafiquen las medias en un histograma para cada tipo de distribución (les dejamos un código para completar). Para esto deberán usar un **ciclo for** (`for i in range(1,20000)`) y crear una lista para almacenar los valores de *mean* a medida que crece la muestra. Para armar una grilla de gráficos, utilicen el método _subplot_ de la libreria matplotlib."
      ]
    },
    {
      "cell_type": "code",
      "metadata": {
        "colab": {
          "base_uri": "https://localhost:8080/",
          "height": 607
        },
        "id": "4IVU1G7-o-nl",
        "outputId": "e49ccd47-9e0b-4e3a-c7d9-3a0cf52470fd"
      },
      "source": [
        "# Ejemplo teorema del límite central\r\n",
        "import pandas as pd\r\n",
        "\r\n",
        "muestra_binomial = []\r\n",
        "muestra_exp = []\r\n",
        "muestra_poisson = []\r\n",
        "muestra_geometric = []\r\n",
        "p = 0.9\r\n",
        "lam = 1.0\r\n",
        "size = 1000\r\n",
        "\r\n",
        "#con esta linea comenzamos el ciclo. Para cada \"vuelta\" de ese ciclo, se \r\n",
        "#repetirán todos los comandos que empiecen con la indentación o tabulación.\r\n",
        "for i in range(1,20000):\r\n",
        "    muestra = np.random.binomial(1, p, size=size)\r\n",
        "    muestra_binomial.append(muestra.mean())\r\n",
        "    muestra = np.random.exponential(scale=2.0,size=size)\r\n",
        "    muestra_exp.append(muestra.mean())\r\n",
        "    muestra = np.random.geometric(q=.5, size=size)\r\n",
        "    muestra_geometric.append(muestra.mean())\r\n",
        "    muestra = np.random.poisson (lam=lam, size=size)\r\n",
        "    muestra_poisson.append(muestra.mean()) \r\n",
        "\r\n",
        "#en el siguiente comando armamos un DataFrame con los valores medios almacenados\r\n",
        "# a lo largo de las iteraciones\r\n",
        "df = pd.DataFrame({ 'binomial' : muestra_binomial, \r\n",
        "                     'poisson' : muestra_poisson,\r\n",
        "                     'geometric' : muestra_geometric,\r\n",
        "                    'exponential' : muestra_exp})\r\n",
        "\r\n",
        "#a partir de este punto, armamos los gráficos para comparar.\r\n",
        "fig, axes = plt.subplots(nrows=2, ncols=2, figsize=(10,10))\r\n",
        "df.binomial.hist(ax=axes[0,0], bins = 50, color = 'red')\r\n",
        "df.exponential.hist(ax=axes[0,1], bins = 50, color = 'red')\r\n",
        "df.poisson.hist(ax=axes[1,0], bins = 50, color = 'red')\r\n",
        "df.geometric.hist(ax=axes[1,1], bins = 50, color = 'red')\r\n",
        "\r\n",
        "axes[0,0].set_title('Binomial')\r\n",
        "axes[0,1].set_title('Poisson')\r\n",
        "axes[1,0].set_title('Geometric')\r\n",
        "axes[1,1].set_title('Exponential')\r\n",
        "plt.show()"
      ],
      "execution_count": null,
      "outputs": [
        {
          "output_type": "display_data",
          "data": {
            "image/png": "[encoded data removed]",
            "text/plain": [
              "<Figure size 720x720 with 4 Axes>"
            ]
          },
          "metadata": {
            "tags": [],
            "needs_background": "light"
          }
        }
      ]
    }
  ]
}