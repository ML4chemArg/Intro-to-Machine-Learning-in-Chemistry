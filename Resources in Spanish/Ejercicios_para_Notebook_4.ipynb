{
  "nbformat": 4,
  "nbformat_minor": 0,
  "metadata": {
    "colab": {
      "name": "Ejercicios para Notebook 4.ipynb",
      "provenance": [],
      "collapsed_sections": []
    },
    "kernelspec": {
      "name": "python3",
      "display_name": "Python 3"
    }
  },
  "cells": [
    {
      "cell_type": "markdown",
      "metadata": {
        "id": "UiiTJVhc94Kk"
      },
      "source": [
        "Clasificación de vinos\r\n",
        "---\r\n",
        "Existen muchos modelos diferentes para clasificar y cada uno de ellos tiene sus ventajas y limitaciones. En el próximo ejercicio, predeciremos el tipo de vino (blanco o tinto) usando el modelo de K-nearest neighbors (o el de los k vecinos más cercanos)."
      ]
    },
    {
      "cell_type": "markdown",
      "metadata": {
        "id": "dP10Liqppxs6"
      },
      "source": [
        "Usaremos el modelo **K-nearest neighbors** para clasificar el tipo de vino. Este algoritmo puede clasificar las diferentes clases, por ejemplo, tinto o blanco, de acuerdo a cuán cerca están sus características unas de otras. Los nuevos datos se clasifican asignando el nuevo objeto a la clase más común entre sus k vecinos más cercanos. Para más información, se puede mirar en [Una introducción al aprendizaje estadístico](https://web.stanford.edu/~hastie/Papers/ESLII.pdf) de James, Witten, Hastie y Tibshirani.\r\n",
        "\r\n",
        "![imagen.png](data:image/png;base64,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)"
      ]
    },
    {
      "cell_type": "markdown",
      "metadata": {
        "id": "TqDeDtrk24-j"
      },
      "source": [
        "Primero, importa el conjunto de datos del vino tinto y blanco y concaténalos de la misma manera que lo hicimos en los cuadernos.\r\n",
        "\r\n",
        "```\r\n",
        "import pandas as pd\r\n",
        "\r\n",
        "df_red = pd.read_csv(\"https://archive.ics.uci.edu/ml/machine-learning-databases/wine-quality/winequality-red.csv\", delimiter=\";\")\r\n",
        "df_red['hue'] = '1' #En lugar de \"hue\", puedes nombrar esta columna como quieras, por ejemplo, podría llamarse \"color\" o \"Juan\".\r\n",
        "df_white = pd.read_csv(\"https://archive.ics.uci.edu/ml/machine-learning-databases/wine-quality/winequality-white.csv\", delimiter=\";\")\r\n",
        "df_white['hue'] = '0'\r\n",
        "\r\n",
        "\r\n",
        "df_wine = pd.concat([..., ...], ignore_index=True)\r\n",
        "```\r\n"
      ]
    },
    {
      "cell_type": "code",
      "metadata": {
        "id": "zVoezVXBc3Ks"
      },
      "source": [
        "import pandas as pd\n",
        "\n",
        "df_red = pd.read_csv(\"https://archive.ics.uci.edu/ml/machine-learning-databases/wine-quality/winequality-red.csv\", delimiter=\";\")\n",
        "df_red['hue'] = '1'\n",
        "df_white = pd.read_csv(\"https://archive.ics.uci.edu/ml/machine-learning-databases/wine-quality/winequality-white.csv\", delimiter=\";\")\n",
        "df_white['hue'] = '0'\n",
        "\n",
        "df_wine = pd.concat([df_red, df_white], ignore_index=True)"
      ],
      "execution_count": null,
      "outputs": []
    },
    {
      "cell_type": "markdown",
      "metadata": {
        "id": "1Sqorq1Xr5eh"
      },
      "source": [
        "Lo siguiente que hay que hacer es dividir los datos en un set de entrenamiento (train) y uno de evaluación (test) con la misma función que usamos en el cuaderno. El conjunto de entrenamiento debe ser el 77% de los datos y el de evaluación el 33%. Recuerda que el objetivo o target (\"_y_\") debe ser un DataFrame de una sola columna (se llama Serie) que indique la clase del objeto, en este caso, el tipo o color del vino. Las características o _features_ (\"_X_\") deben ser un DataFrame con todas las demás columnas (que aporten información que influya sobre el color del vino) excepto el _target_.\r\n",
        "\r\n",
        "```\r\n",
        "from sklearn.model_selection import train_test_split\r\n",
        "\r\n",
        "X = df.drop([...], axis=1)\r\n",
        "y = df[...]\r\n",
        "\r\n",
        "X_train, X_test, y_train, y_test = train_test_split(X, y, test_size = ... , random_state=42)\r\n",
        "```\r\n",
        "\r\n"
      ]
    },
    {
      "cell_type": "code",
      "metadata": {
        "id": "YCfDTqAidAhV"
      },
      "source": [
        "from sklearn.model_selection import train_test_split\n",
        "\n",
        "X = df_wine.drop(['quality', 'hue'], axis=1)\n",
        "y = df_wine['hue']\n",
        "\n",
        "X_train, X_test, y_train, y_test = train_test_split(X, y, test_size=0.33, random_state=42)"
      ],
      "execution_count": null,
      "outputs": []
    },
    {
      "cell_type": "markdown",
      "metadata": {
        "id": "LKvqnHk24YE2"
      },
      "source": [
        "Para hacer mejores predicciones, normalizá los datos de las _features_ usando la función `StandardScaler()` de la misma manera que lo hicimos en el cuaderno.\r\n",
        "\r\n",
        "```\r\n",
        "from sklearn import preprocessing\r\n",
        "\r\n",
        "scaler = preprocessing.StandardScaler()\r\n",
        "scaler.fit(...)\r\n",
        "X_train = scaler.transform(...) # De esta forma, el set X_train se encuentra normalizado\r\n",
        "X_test = scaler.transform(...)\r\n",
        "```\r\n",
        "\r\n"
      ]
    },
    {
      "cell_type": "code",
      "metadata": {
        "id": "pjNSPjpCLPXf"
      },
      "source": [
        "from sklearn import preprocessing\r\n",
        "\r\n",
        "scaler = preprocessing.StandardScaler()\r\n",
        "scaler.fit(X_train)\r\n",
        "X_train = scaler.transform(X_train)\r\n",
        "X_test = scaler.transform(X_test)"
      ],
      "execution_count": null,
      "outputs": []
    },
    {
      "cell_type": "markdown",
      "metadata": {
        "id": "g8SYhG2isa92"
      },
      "source": [
        "Luego tendrás que importar y crear el _KNeighborsClassifier_ de la biblioteca _sklearn.neighbors_. Para hacer el clasificador habrá que indicar el parámetro n_neighbors, que indica el valor de k y podría ser 3. En KNN, k es el número de vecinos más cercanos. Decidir el número \"correcto\" es importante, no sólo porque el algoritmo requiere dicho parámetro, sino también porque el número apropiado de vecinos más cercanos determina su rendimiento.\r\n",
        "\r\n",
        "```\r\n",
        "from sklearn.neighbors import KNeighborsClassifier\r\n",
        "knn = KNeighborsClassifier(n_neighbors = ...)\r\n",
        "```\r\n",
        "\r\n"
      ]
    },
    {
      "cell_type": "code",
      "metadata": {
        "id": "7q-nNkmCsv3s"
      },
      "source": [
        "from sklearn.neighbors import KNeighborsClassifier\r\n",
        "knn = KNeighborsClassifier(n_neighbors = 3)"
      ],
      "execution_count": null,
      "outputs": []
    },
    {
      "cell_type": "markdown",
      "metadata": {
        "id": "2cG1JDnpt5vE"
      },
      "source": [
        "Ahora queda ajustar el modelo usando los datos de entrenamiento con la función `knn.fit( ... , ... )` de la misma forma que se hizo en el cuaderno."
      ]
    },
    {
      "cell_type": "code",
      "metadata": {
        "colab": {
          "base_uri": "https://localhost:8080/"
        },
        "id": "v7c9BtO0uJjS",
        "outputId": "c0b34a70-df1d-483e-fd6c-6fa019a0b47f"
      },
      "source": [
        "knn.fit(X_train, y_train)"
      ],
      "execution_count": null,
      "outputs": [
        {
          "output_type": "execute_result",
          "data": {
            "text/plain": [
              "KNeighborsClassifier(algorithm='auto', leaf_size=30, metric='minkowski',\n",
              "                     metric_params=None, n_jobs=None, n_neighbors=3, p=2,\n",
              "                     weights='uniform')"
            ]
          },
          "metadata": {
            "tags": []
          },
          "execution_count": 5
        }
      ]
    },
    {
      "cell_type": "markdown",
      "metadata": {
        "id": "Y_deJrzBH9MQ"
      },
      "source": [
        "Ahora que tenemos nuestro modelo entrenado, lo siguiente es evaluar las predicciones hechas por este. Para hacerlo, generá una Serie predicciones del conjunto de _features_ de evaluación usando la función\r\n",
        "`predict()` y luego usá esas predicciones para calcular el _score_ de precisión, hacer la matriz de confusión y el informe de clasificación.\r\n",
        "\r\n",
        "```\r\n",
        "from sklearn.metrics import classification_report, accuracy_score, confusion_matrix\r\n",
        "y_pred = knn.predict(...)\r\n",
        "print(\"Score: \" + str(accuracy_score(..., ...)))\r\n",
        "print(\"\\nMatriz de confusión: \\n\" + str(confusion_matrix(..., ...)))\r\n",
        "print(\"\\nReporte de clasificación: \\n\" + str(classification_report(..., ...)))\r\n",
        "\r\n",
        "```"
      ]
    },
    {
      "cell_type": "code",
      "metadata": {
        "colab": {
          "base_uri": "https://localhost:8080/"
        },
        "id": "RRk5Ng0gu2m5",
        "outputId": "5ab540f3-efa8-4eb9-eeb4-103e7232828a"
      },
      "source": [
        "from sklearn.metrics import classification_report, accuracy_score, confusion_matrix\r\n",
        "\r\n",
        "y_pred = knn.predict(X_test)\r\n",
        "\r\n",
        "print(\"Score: \" + str(accuracy_score(y_test, y_pred)))\r\n",
        "print(\"\\nMatriz de confusión: \\n\" + str(confusion_matrix(y_test, y_pred)))\r\n",
        "print(\"\\nReporte de clasificación: \\n\" + str(classification_report(y_test, y_pred)))"
      ],
      "execution_count": null,
      "outputs": [
        {
          "output_type": "stream",
          "text": [
            "Score: 0.9911421911421912\n",
            "\n",
            "Matriz de confusión: \n",
            "[[1581    7]\n",
            " [  12  545]]\n",
            "\n",
            "Reporte de clasificación: \n",
            "              precision    recall  f1-score   support\n",
            "\n",
            "           0       0.99      1.00      0.99      1588\n",
            "           1       0.99      0.98      0.98       557\n",
            "\n",
            "    accuracy                           0.99      2145\n",
            "   macro avg       0.99      0.99      0.99      2145\n",
            "weighted avg       0.99      0.99      0.99      2145\n",
            "\n"
          ],
          "name": "stdout"
        }
      ]
    },
    {
      "cell_type": "markdown",
      "metadata": {
        "id": "Ae0kAXhDgYpd"
      },
      "source": [
        "Finalmente, según la evaluación, podés preguntarte qué tan bueno fue tu modelo predictivo. ¿Puede ser mejor? Siempre hay formas de pulirlo u optimizarlo. En este caso, tal vez haya otro valor para k que mejore el _score_ del modelo. ¡Intenta encontrarlo!\r\n",
        "A primera vista, hay dos maneras de hacerlo. Una sería probar manualmente el modelo para diferentes valores de k y guardar los resultados para compararlos. ¡Otra forma sería hacer que la computadora haga ese trabajo por vos! Si te sentis valiente, intentá hacerlo creando una función (como en el primer cuaderno) que utilice el _dataset_ de datos del vino (df_wine) y el valor de k como parámetros y devuelva la puntuación o el _score_ del modelo llevando a cabo todos los pasos anteriores (dividir los datos, normalizarlos, hacer el modelo, entrenarlo y calcular el _score_). Luego, podés evaluar el modelo para un rango de valores de k (usando un bucle _for_) e imprimir los resultados, o mejor aún, ¡graficarlos!\r\n",
        "\r\n",
        "Nota: _Si es la primera vez que trabajas con un lenguaje de programación, este último ejercicio puede ser complicado. No te frustres si no funciona, mejor consulta a los profesores y a tus compañeros. Podés continuar con el siguiente cuaderno incluso sin hacer este ejercicio._"
      ]
    },
    {
      "cell_type": "code",
      "metadata": {
        "id": "v9svgKkmdEf4"
      },
      "source": [
        "def pred(data, k ):\n",
        "  df = data.copy()\n",
        "  X = df.drop(['quality', 'hue'], axis=1)\n",
        "  y = df['hue']\n",
        "\n",
        "  X_train, X_test, y_train, y_test = train_test_split(X, y, test_size = 0.33, random_state = 42)\n",
        "  scaler = preprocessing.StandardScaler()\n",
        "  scaler.fit(X_train)\n",
        "  X_train = scaler.transform(X_train)\n",
        "  X_test = scaler.transform(X_test)\n",
        "\n",
        "  knn = KNeighborsClassifier(n_neighbors = k)\n",
        "  knn.fit(X_train, y_train)\n",
        "\n",
        "  y_pred = knn.predict(X_test)\n",
        "  score = accuracy_score(y_test, y_pred)\n",
        "\n",
        "  #print(f\"Score: \" + str(score) + f' para k = {k}')\n",
        "  return score\n"
      ],
      "execution_count": null,
      "outputs": []
    },
    {
      "cell_type": "code",
      "metadata": {
        "colab": {
          "base_uri": "https://localhost:8080/",
          "height": 279
        },
        "id": "GXusOlVodSu8",
        "outputId": "6888bad3-b357-49aa-9ddc-eeb31abf9241"
      },
      "source": [
        "import matplotlib.pyplot as plt\n",
        "\n",
        "score = []\n",
        "k = [i for i in range(1,50)]\n",
        "for i in k:\n",
        "  score.append(pred(df_wine,i))\n",
        "\n",
        "k0 = 4\n",
        "plt.plot(k,score)\n",
        "plt.xlabel('k')\n",
        "plt.ylabel('score KNN')\n",
        "plt.plot([k0,k0],[min(score),max(score)],'r',lw = 1,label = f'k = {k0}')\n",
        "plt.legend()\n",
        "plt.show()"
      ],
      "execution_count": null,
      "outputs": [
        {
          "output_type": "display_data",
          "data": {
            "image/png": "[encoded data removed]",
            "text/plain": [
              "<Figure size 432x288 with 1 Axes>"
            ]
          },
          "metadata": {
            "tags": [],
            "needs_background": "light"
          }
        }
      ]
    },
    {
      "cell_type": "markdown",
      "metadata": {
        "id": "Nq50sAXh5HQT"
      },
      "source": [
        "¿Encontraste otro valor de k que podría mejorar el rendimiento?\r\n",
        "\r\n",
        "Un modelo con k = 1 puede tener el mejor rendimiento, pero hay que tener cuidado, porque es muy probable que el modelo esté sobreajustando los datos (lo que se llama _overfitting_). Para más información, podés consultar este [artículo](https://medium.com/swlh/overfitting-vs-underfitting-d742b4ffac57)."
      ]
    }
  ]
}