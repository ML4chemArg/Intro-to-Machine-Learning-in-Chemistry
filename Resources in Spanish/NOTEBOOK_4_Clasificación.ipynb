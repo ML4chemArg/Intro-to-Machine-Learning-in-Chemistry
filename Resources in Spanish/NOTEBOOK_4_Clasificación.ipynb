{
  "nbformat": 4,
  "nbformat_minor": 0,
  "metadata": {
    "colab": {
      "name": "NOTEBOOK 4 - Clasificación.ipynb",
      "provenance": []
    },
    "kernelspec": {
      "name": "python3",
      "display_name": "Python 3"
    }
  },
  "cells": [
    {
      "cell_type": "markdown",
      "metadata": {
        "id": "w_uAGaGhWWMO"
      },
      "source": [
        "# NOTEBOOK 4: Clasificación"
      ]
    },
    {
      "cell_type": "markdown",
      "metadata": {
        "id": "9lGp35EhWbB7"
      },
      "source": [
        "En esta Notebook vamos a empezar a entrar en el mundo actual del aprendizaje automatico (ML) para clasificar datos. Vamos a introducir un numero de diferentes algoritmos de clasificacion y vamos a aplicarlos a nuestro conjunto de datos de vinos. "
      ]
    },
    {
      "cell_type": "markdown",
      "metadata": {
        "id": "wQXNf4JTXWNz"
      },
      "source": [
        "# Contenido\r\n",
        "\r\n",
        "* Regresión Logística\r\n",
        "* Data Splitting\r\n",
        "* Data Standardization\r\n",
        "* Multiple Logistic Regression\r\n",
        "* Performance Metrics for Classification\r\n",
        "* Árbol de decisión\r\n"
      ]
    },
    {
      "cell_type": "markdown",
      "metadata": {
        "id": "6gQJa9eudqK2"
      },
      "source": [
        "# Regresión Logística\r\n",
        "\r\n",
        "La regresión logística es una técnica estadística que es un método básico de clasificación. Se basa en la función logística, que es una forma general de la función sigmoidea. Es una curva en forma de \"S\" que puede tomar cualquier número de valor real en el eje x, y valores entre 0 y 1 en el eje y. Se puede utilizar para clasificar entre dos clases (0 y 1). El valor de y expresa la probabilidad de que ocurra la clase 1.\r\n",
        "\r\n",
        "Primero, cargamos las librerias y los datos."
      ]
    },
    {
      "cell_type": "code",
      "metadata": {
        "id": "CUxCWPD8ep5C"
      },
      "source": [
        "import pandas as pd\r\n",
        "import numpy as np\r\n",
        "import seaborn as sns\r\n",
        "import matplotlib.pyplot as plt\r\n",
        "\r\n",
        "df = pd.read_csv(\"https://archive.ics.uci.edu/ml/machine-learning-databases/wine-quality/winequality-red.csv\", delimiter=\";\")\r\n",
        "df['hue']='1'\r\n",
        "\r\n",
        "df2 = pd.read_csv(\"https://archive.ics.uci.edu/ml/machine-learning-databases/wine-quality/winequality-white.csv\", delimiter=\";\")\r\n",
        "df2['hue']='0'\r\n",
        "\r\n",
        "df_wine = pd.concat([df, df2], ignore_index=True)"
      ],
      "execution_count": null,
      "outputs": []
    },
    {
      "cell_type": "markdown",
      "metadata": {
        "id": "ewa37yEOfdjs"
      },
      "source": [
        "Para demostrarlo, tomaremos el conjunto de datos para vinos tintos y extraeremos la cantidad de alcohol para las calidades 3 y 8. Luego, convertimos estas clases en 0 y 1 para ajustarlas mediante una regresión logística."
      ]
    },
    {
      "cell_type": "code",
      "metadata": {
        "id": "Vpq6XAqtfehO",
        "colab": {
          "base_uri": "https://localhost:8080/",
          "height": 296
        },
        "outputId": "d43c9596-7f85-4b87-8554-abae6d5605ee"
      },
      "source": [
        "df_LR = df.loc[(df['quality'] == 3 ) | (df['quality'] == 8 ), ['alcohol','quality']]\r\n",
        "\r\n",
        "df_LR.loc[df_LR.quality == 3, 'quality'] = 0\r\n",
        "df_LR.loc[df_LR.quality == 8, 'quality'] = 1\r\n",
        "\r\n",
        "df_LR.plot.scatter(x = 'alcohol', y = 'quality')"
      ],
      "execution_count": null,
      "outputs": [
        {
          "output_type": "execute_result",
          "data": {
            "text/plain": [
              "<matplotlib.axes._subplots.AxesSubplot at 0x7f92256f66d8>"
            ]
          },
          "metadata": {
            "tags": []
          },
          "execution_count": 8
        },
        {
          "output_type": "display_data",
          "data": {
            "image/png": "[encoded data removed]",
            "text/plain": [
              "<Figure size 432x288 with 1 Axes>"
            ]
          },
          "metadata": {
            "tags": [],
            "needs_background": "light"
          }
        }
      ]
    },
    {
      "cell_type": "markdown",
      "metadata": {
        "id": "rKDjjy-sfqH-"
      },
      "source": [
        "Ajustaremos los datos usando seaborn con la función regplot, que nos permite visualizar cómo se ajustan los datos a esta regresión. Para obtener más información, visite la [documentación](https://seaborn.pydata.org/generated/seaborn.regplot.html)."
      ]
    },
    {
      "cell_type": "code",
      "metadata": {
        "id": "Na8uU1Dtf-pK",
        "colab": {
          "base_uri": "https://localhost:8080/",
          "height": 450
        },
        "outputId": "b6478144-1502-4670-d0dc-ceb1961056f9"
      },
      "source": [
        "X = df_LR[['alcohol']]\r\n",
        "y = df_LR.quality\r\n",
        "sns.regplot(X, y, logistic=True, scatter_kws={'color': 'blue'}, line_kws={'color': 'green'})"
      ],
      "execution_count": null,
      "outputs": [
        {
          "output_type": "stream",
          "text": [
            "/usr/local/lib/python3.6/dist-packages/seaborn/_decorators.py:43: FutureWarning: Pass the following variables as keyword args: x, y. From version 0.12, the only valid positional argument will be `data`, and passing other arguments without an explicit keyword will result in an error or misinterpretation.\n",
            "  FutureWarning\n",
            "/usr/local/lib/python3.6/dist-packages/statsmodels/genmod/families/family.py:890: RuntimeWarning: invalid value encountered in true_divide\n",
            "  n_endog_mu = self._clean((1. - endog) / (1. - mu))\n",
            "/usr/local/lib/python3.6/dist-packages/statsmodels/genmod/families/links.py:190: RuntimeWarning: overflow encountered in exp\n",
            "  t = np.exp(-z)\n",
            "/usr/local/lib/python3.6/dist-packages/statsmodels/genmod/families/family.py:889: RuntimeWarning: invalid value encountered in true_divide\n",
            "  endog_mu = self._clean(endog / mu)\n"
          ],
          "name": "stderr"
        },
        {
          "output_type": "execute_result",
          "data": {
            "text/plain": [
              "<matplotlib.axes._subplots.AxesSubplot at 0x7f92256db710>"
            ]
          },
          "metadata": {
            "tags": []
          },
          "execution_count": 9
        },
        {
          "output_type": "display_data",
          "data": {
            "image/png": "[encoded data removed]",
            "text/plain": [
              "<Figure size 432x288 with 1 Axes>"
            ]
          },
          "metadata": {
            "tags": [],
            "needs_background": "light"
          }
        }
      ]
    },
    {
      "cell_type": "markdown",
      "metadata": {
        "id": "vIi6FUgggFCd"
      },
      "source": [
        "Ahora hagamos un modelo de regresión logística usando **scikit learn**. Tenemos que evitar la regularización para obtener resultados similares a los mostrados con **seaborn**. La regularización se considera el efecto de valores atípicos en una regresión y se define mediante la constante C. En este caso, usamos un valor de $ 10 ^ 9 $, por lo que este valor alto desactiva la regularización. Para obtener más información, visite la [documentación](https://scikit-learn.org/stable/modules/generated/sklearn.linear_model.LogisticRegression.html 'sklearn.linear_model.LogisticRegression')."
      ]
    },
    {
      "cell_type": "code",
      "metadata": {
        "id": "P6zg3Nn2PTfD",
        "colab": {
          "base_uri": "https://localhost:8080/"
        },
        "outputId": "4a595c83-2942-421d-b8c6-5ab992675407"
      },
      "source": [
        "from sklearn.linear_model import LogisticRegression\n",
        "\n",
        "X = df_LR[['alcohol']]\n",
        "y = df_LR.quality\n",
        "\n",
        "model = LogisticRegression(C = 1e9)\n",
        "model.fit(X, y)"
      ],
      "execution_count": null,
      "outputs": [
        {
          "output_type": "execute_result",
          "data": {
            "text/plain": [
              "LogisticRegression(C=1000000000.0, class_weight=None, dual=False,\n",
              "                   fit_intercept=True, intercept_scaling=1, l1_ratio=None,\n",
              "                   max_iter=100, multi_class='auto', n_jobs=None, penalty='l2',\n",
              "                   random_state=None, solver='lbfgs', tol=0.0001, verbose=0,\n",
              "                   warm_start=False)"
            ]
          },
          "metadata": {
            "tags": []
          },
          "execution_count": 10
        }
      ]
    },
    {
      "cell_type": "markdown",
      "metadata": {
        "id": "cVZ-QRPchG2a"
      },
      "source": [
        "Ahora creamos una función sigmoidea para trazar el modelo de regresión logística y luego lo graficamos junto con los datos."
      ]
    },
    {
      "cell_type": "code",
      "metadata": {
        "id": "SIDRYmAoXIWO",
        "colab": {
          "base_uri": "https://localhost:8080/",
          "height": 282
        },
        "outputId": "a09417be-4de5-4c47-9327-9da398335e5c"
      },
      "source": [
        "from scipy.special import expit\n",
        "x_test = np.linspace(8.5,14.0,100)\n",
        "# predigo y_test data con el modelo de regresión logística\n",
        "y_test = x_test * model.coef_ + model.intercept_\n",
        " \n",
        "sigmoid = expit(y_test)\n",
        "plt.scatter(X,y)\n",
        " \n",
        "\n",
        "plt.plot(x_test,sigmoid.ravel(),c=\"green\", label = \"ajuste logístico\")\n",
        "plt.legend(loc=\"lower right\")"
      ],
      "execution_count": null,
      "outputs": [
        {
          "output_type": "execute_result",
          "data": {
            "text/plain": [
              "<matplotlib.legend.Legend at 0x7f92255b9e10>"
            ]
          },
          "metadata": {
            "tags": []
          },
          "execution_count": 11
        },
        {
          "output_type": "display_data",
          "data": {
            "image/png": "[encoded data removed]",
            "text/plain": [
              "<Figure size 432x288 with 1 Axes>"
            ]
          },
          "metadata": {
            "tags": [],
            "needs_background": "light"
          }
        }
      ]
    },
    {
      "cell_type": "markdown",
      "metadata": {
        "id": "NJ1Q17xZhT71"
      },
      "source": [
        "# Data Splitting\r\n",
        "\r\n",
        "En general, los datos se dividen en dos grupos antes de generar un modelo. Estos grupos se denominan conjuntos de entrenamiento y prueba. El conjunto de entrenamiento se utiliza para desarrollar modelos y seleccionar los parámetros que se ajustan a los datos. El conjunto de prueba se utiliza para valorar el rendimiento del modelo con datos invisibles. La forma más común es dividir los datos al azar.\r\n",
        "\r\n",
        "Dividimos el conjunto de datos usando la función **train_test_split** de **scikit learn**. El conjunto de entrenamiento es el 67% de los datos y el conjunto de prueba es el 33% (lo hemos especificado deliberadamente de esa manera en los parámetros). El parámetro `random_state` controla la mezcla aplicada a los datos antes de aplicar la división. Para obtener más información, visite la [documentación](https://scikit-learn.org/stable/modules/generated/sklearn.model_selection.train_test_split.html 'sklearn.model_selection.train_test_split').\r\n"
      ]
    },
    {
      "cell_type": "code",
      "metadata": {
        "id": "7PAGmmktKFxu"
      },
      "source": [
        "from sklearn.model_selection import train_test_split\n",
        "\n",
        "X = df_wine.drop(['quality', 'hue'], axis=1)\n",
        "y = df_wine['hue']\n",
        "\n",
        "X_train, X_test, y_train, y_test = train_test_split(X, y, test_size=0.33, random_state=42)"
      ],
      "execution_count": null,
      "outputs": []
    },
    {
      "cell_type": "markdown",
      "metadata": {
        "id": "ijdYloqIib-2"
      },
      "source": [
        "# Data Standardization\r\n",
        "\r\n",
        "La estandarización es un método para transformar variables que difieren en media y desviación en valores comparables. Este proceso consiste en restar las medias de cada característica y luego dividir por las desviaciones estándar de la característica. Muchos algoritmos de aprendizaje automático asumen que todas las características se centran alrededor de cero y tienen aproximadamente la misma varianza, por lo que se necesita estandarización.\r\n",
        "\r\n",
        "En este caso, usaremos la función **StandardScaler**, que primero necesita ajustar los datos para determinar la media y la desviación estándar y luego transformar los datos en una forma estandarizada. Hay otros procesos de estandarización. Para obtener más información, visite la [documentación](https://scikit-learn.org/stable/modules/preprocessing.html 'Preprocessing data')."
      ]
    },
    {
      "cell_type": "code",
      "metadata": {
        "id": "IxyD3G-Tjf_x"
      },
      "source": [
        "from sklearn import preprocessing\r\n",
        "\r\n",
        "scaler = preprocessing.StandardScaler()\r\n",
        "scaler.fit(X_train)\r\n",
        "\r\n",
        "X_train = scaler.transform(X_train)\r\n",
        "X_test = scaler.transform(X_test)"
      ],
      "execution_count": null,
      "outputs": []
    },
    {
      "cell_type": "markdown",
      "metadata": {
        "id": "ZmUA5bLOjl3g"
      },
      "source": [
        "# Regresión Logística Multiple\r\n",
        "\r\n",
        "En este caso, utilizaremos todas las funciones con regresión logística para clasificar entre vino blanco y tinto."
      ]
    },
    {
      "cell_type": "code",
      "metadata": {
        "id": "84BxstojYeVu",
        "colab": {
          "base_uri": "https://localhost:8080/"
        },
        "outputId": "3b4a15ba-7bac-4d1a-88bd-a3ae8106011b"
      },
      "source": [
        "from sklearn.linear_model import LogisticRegression\n",
        "from sklearn.metrics import classification_report, accuracy_score, confusion_matrix\n",
        "\n",
        "lr = LogisticRegression(random_state=0) #Se proporciona el parámetro random_state para controlar el generador de números aleatorios, este se utiliza siempre que la aleatorización forme parte de un algoritmo de Scikit-learn.\n",
        "lr.fit(X_train, y_train)"
      ],
      "execution_count": null,
      "outputs": [
        {
          "output_type": "execute_result",
          "data": {
            "text/plain": [
              "LogisticRegression(C=1.0, class_weight=None, dual=False, fit_intercept=True,\n",
              "                   intercept_scaling=1, l1_ratio=None, max_iter=100,\n",
              "                   multi_class='auto', n_jobs=None, penalty='l2',\n",
              "                   random_state=0, solver='lbfgs', tol=0.0001, verbose=0,\n",
              "                   warm_start=False)"
            ]
          },
          "metadata": {
            "tags": []
          },
          "execution_count": 14
        }
      ]
    },
    {
      "cell_type": "markdown",
      "metadata": {
        "id": "gGUQmHLyj-2x"
      },
      "source": [
        "Probaremos qué tan buena es la predicción del modelo para clasificar los datos con los que no se entrenó. Obtendremos métricas de rendimiento de esta comparación. En la siguiente sección, los analizaremos detenidamente."
      ]
    },
    {
      "cell_type": "code",
      "metadata": {
        "id": "h5y7H0Z40YjG",
        "colab": {
          "base_uri": "https://localhost:8080/"
        },
        "outputId": "9268df53-905a-45c6-d5cd-708027b7e362"
      },
      "source": [
        "y_pred = lr.predict(X_test)\n",
        "\n",
        "print(\"Score de precisión: \" + str(accuracy_score(y_test, y_pred)))\n",
        "print(\"\\nMatriz de confusión: \\n\" + str(confusion_matrix(y_test, y_pred)))\n",
        "print(\"\\nReporte de clasificación: \\n\" + str(classification_report(y_test, y_pred)))"
      ],
      "execution_count": null,
      "outputs": [
        {
          "output_type": "stream",
          "text": [
            "Score de precisión: 0.9888111888111888\n",
            "\n",
            "Matriz de confusión: \n",
            "[[1577   11]\n",
            " [  13  544]]\n",
            "\n",
            "Reporte de clasificación: \n",
            "              precision    recall  f1-score   support\n",
            "\n",
            "           0       0.99      0.99      0.99      1588\n",
            "           1       0.98      0.98      0.98       557\n",
            "\n",
            "    accuracy                           0.99      2145\n",
            "   macro avg       0.99      0.98      0.99      2145\n",
            "weighted avg       0.99      0.99      0.99      2145\n",
            "\n"
          ],
          "name": "stdout"
        }
      ]
    },
    {
      "cell_type": "markdown",
      "metadata": {
        "id": "atJ2kt-BlFt0"
      },
      "source": [
        "#Metricas de rendimiento para clasificación\r\n",
        "Las métricas son los valores que guían la decisión en el aprendizaje automático. Por ejemplo, elegir qué modelo funciona mejor o qué parámetros mejoran un modelo midiendo y comparando entre diferentes casos. En este apartado vamos a analizar algunas de las métricas más utilizadas para la tarea de clasificación.\r\n",
        "\r\n",
        "La precisión en este contexto de problemas de clasificación es el número de predicciones correctas sobre la cantidad total de predicciones. Esta métrica es útil cuando las clases a clasificar están aproximadamente equilibradas. Se espera que la precisión sea mejor en el conjunto de entrenamiento que en el de prueba."
      ]
    },
    {
      "cell_type": "code",
      "metadata": {
        "id": "6lM8nZg9b7qG",
        "colab": {
          "base_uri": "https://localhost:8080/"
        },
        "outputId": "2d6c5ebe-6e91-4c5c-b5b1-0cea17701c33"
      },
      "source": [
        "train_accuracy = lr.score(X_train, y_train)\n",
        "test_accuracy = lr.score(X_test, y_test)\n",
        "print('One-vs-rest', '-'*35, \n",
        "      'Precisión en grupo entrenamiento: {:.3f}'.format(train_accuracy), \n",
        "      'Precisión en grupo testeo: {:.3f}'.format(test_accuracy), sep='\\n')"
      ],
      "execution_count": null,
      "outputs": [
        {
          "output_type": "stream",
          "text": [
            "One-vs-rest\n",
            "-----------------------------------\n",
            "Precisión en grupo entrenamiento: 0.995\n",
            "Precisión en grupo testeo: 0.989\n"
          ],
          "name": "stdout"
        }
      ]
    },
    {
      "cell_type": "markdown",
      "metadata": {
        "id": "WhXyvOB1lf06"
      },
      "source": [
        "La Matriz de confusión se utiliza para visualizar el desempeño en un problema de clasificación de dos o más tipos de clases. Para un caso binario como nuestro, comparamos los valores “Real” frente a los “Predichos” y obtenemos 4 casos:\r\n",
        "\r\n",
        "* TP - Verdadero Positivo\r\n",
        "* TN - Verdadero negativo\r\n",
        "* FP - Falso positivo\r\n",
        "* FN - Falso negativo"
      ]
    },
    {
      "cell_type": "markdown",
      "metadata": {
        "id": "bv1e4_xw9S35"
      },
      "source": [
        "![descarga.png](data:image/png;base64,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)"
      ]
    },
    {
      "cell_type": "markdown",
      "metadata": {
        "id": "0k38_QPYl3q4"
      },
      "source": [
        "Grafiquemos la matriz de confusión usando matplotlib."
      ]
    },
    {
      "cell_type": "code",
      "metadata": {
        "id": "NDNikvdYb8_e",
        "colab": {
          "base_uri": "https://localhost:8080/",
          "height": 297
        },
        "outputId": "ecb9cc0a-e315-4f7a-8d77-cff498c72f1a"
      },
      "source": [
        "from sklearn.metrics import confusion_matrix as cm\n",
        "\n",
        "predictions = lr.predict(X_test)\n",
        "score = round(accuracy_score(y_test, predictions), 3)\n",
        "cm1 = cm(predictions, y_test)\n",
        "sns.heatmap(cm1, annot=True, fmt=\".0f\")\n",
        "plt.xlabel('Predicted Values')\n",
        "plt.ylabel('Actual Values')\n",
        "plt.title('Accuracy Score: {0}'.format(score), size = 15)\n",
        "plt.show()"
      ],
      "execution_count": null,
      "outputs": [
        {
          "output_type": "display_data",
          "data": {
            "image/png": "[encoded data removed]",
            "text/plain": [
              "<Figure size 432x288 with 2 Axes>"
            ]
          },
          "metadata": {
            "tags": [],
            "needs_background": "light"
          }
        }
      ]
    },
    {
      "cell_type": "markdown",
      "metadata": {
        "id": "MOgF4JkLmFRd"
      },
      "source": [
        "La precisión es una métrica que informa cuántas instancias de predicción positiva fueron realmente positivas. \r\n",
        "$$ Precision = TP / (TP + FP) $$"
      ]
    },
    {
      "cell_type": "code",
      "metadata": {
        "id": "rI0U959YcCdJ",
        "colab": {
          "base_uri": "https://localhost:8080/"
        },
        "outputId": "11cd333e-b100-4e5d-860c-08030f34326f"
      },
      "source": [
        "from sklearn.metrics import precision_score\n",
        "\n",
        "print(\"precisión score: \",  precision_score(y_test, predictions, average='micro'))"
      ],
      "execution_count": null,
      "outputs": [
        {
          "output_type": "stream",
          "text": [
            "precisión score:  0.9888111888111888\n"
          ],
          "name": "stdout"
        }
      ]
    },
    {
      "cell_type": "markdown",
      "metadata": {
        "id": "1tG3-JJ3mRVH"
      },
      "source": [
        "El Recall es una métrica que informa cuántas instancias se identificaron correctamente de todas las clases positivas.\r\n",
        "$$ Recall = TP / (TP + FN) $$"
      ]
    },
    {
      "cell_type": "code",
      "metadata": {
        "id": "e7mSaZr-qmiK",
        "colab": {
          "base_uri": "https://localhost:8080/"
        },
        "outputId": "6786d120-b2e1-492c-ac09-8b5d31dd63e9"
      },
      "source": [
        "from sklearn.metrics import recall_score\n",
        "\n",
        "print(\"recall score: \",  recall_score(y_test, predictions, average='micro'))\n"
      ],
      "execution_count": null,
      "outputs": [
        {
          "output_type": "stream",
          "text": [
            "recall score:  0.9888111888111888\n"
          ],
          "name": "stdout"
        }
      ]
    },
    {
      "cell_type": "markdown",
      "metadata": {
        "id": "PpVZg8V0nEN8"
      },
      "source": [
        "El F1-Score es una métrica que muestra la media armónica de precisión y Recall.\r\n",
        " $$ F1-Score = (2 \\cdot Recall \\cdot Precision) / (Recall + Precision) $$"
      ]
    },
    {
      "cell_type": "code",
      "metadata": {
        "id": "Akg_xKTTqqF9",
        "colab": {
          "base_uri": "https://localhost:8080/"
        },
        "outputId": "3635bf49-b436-44da-ae71-f2946bf37d45"
      },
      "source": [
        "from sklearn.metrics import f1_score\n",
        "\n",
        "precision_s = precision_score(y_test, predictions,average='micro')\n",
        "recall_s    = recall_score(y_test, predictions, average='micro')\n",
        "\n",
        "\n",
        "print(\"F1_score     : \",  2*((precision_s*recall_s)/(precision_s + recall_s)))"
      ],
      "execution_count": null,
      "outputs": [
        {
          "output_type": "stream",
          "text": [
            "F1_score     :  0.9888111888111888\n"
          ],
          "name": "stdout"
        }
      ]
    },
    {
      "cell_type": "markdown",
      "metadata": {
        "id": "aceMdKJinZX5"
      },
      "source": [
        "# Árbol de decisión\r\n",
        "\r\n",
        "Un árbol de decisión es una técnica no lineal que divide el conjunto de datos en subconjuntos según el valor de una característica. Este paso se repite de forma recursiva en cada nuevo subconjunto hasta que se alcanzan algunos criterios. Por ejemplo, cada punto del subconjunto tiene el mismo valor de la variable objetivo o se alcanza una profundidad máxima. La elección de la característica y el valor a dividir se basa en reducir la entropía objetivo dividiéndola en subconjuntos puros. Para obtener más información, visite la [documentación](https://scikit-learn.org/stable/modules/generated/sklearn.tree.DecisionTreeClassifier.html 'sklearn.tree.DecisionTreeClassifier')."
      ]
    },
    {
      "cell_type": "code",
      "metadata": {
        "id": "gmqj2r2FdK1y",
        "colab": {
          "base_uri": "https://localhost:8080/"
        },
        "outputId": "3ebaf956-8b4f-41c7-f9d0-88e477bbff0a"
      },
      "source": [
        "from sklearn import tree\n",
        "from sklearn.tree import DecisionTreeClassifier\n",
        "\n",
        "dt = DecisionTreeClassifier(criterion = 'entropy', max_depth = 3, random_state = 1)\n",
        "dt.fit(X_train, y_train)\n",
        "\n",
        "y_pred = dt.predict(X_test)\n",
        "\n",
        "print(\"Accuracy score: \" + str(accuracy_score(y_test, y_pred)))\n",
        "print(\"\\nConfusion matrix: \\n\" + str(confusion_matrix(y_test, y_pred)))\n",
        "print(\"\\nClassification report: \\n\" + str(classification_report(y_test, y_pred)))"
      ],
      "execution_count": null,
      "outputs": [
        {
          "output_type": "stream",
          "text": [
            "Accuracy score: 0.9724941724941725\n",
            "\n",
            "Confusion matrix: \n",
            "[[1564   24]\n",
            " [  35  522]]\n",
            "\n",
            "Classification report: \n",
            "              precision    recall  f1-score   support\n",
            "\n",
            "           0       0.98      0.98      0.98      1588\n",
            "           1       0.96      0.94      0.95       557\n",
            "\n",
            "    accuracy                           0.97      2145\n",
            "   macro avg       0.97      0.96      0.96      2145\n",
            "weighted avg       0.97      0.97      0.97      2145\n",
            "\n"
          ],
          "name": "stdout"
        }
      ]
    },
    {
      "cell_type": "markdown",
      "metadata": {
        "id": "xgsO5Oeyn1Gd"
      },
      "source": [
        "Una característica interesante de los árboles de decisión es que podemos generar un esquema que nos muestre cómo se tomaron las decisiones. Para obtener más información, visite la [documentación](https://scikit-learn.org/stable/modules/generated/sklearn.tree.plot_tree.html 'sklearn.tree.plot_tree')."
      ]
    },
    {
      "cell_type": "code",
      "metadata": {
        "id": "PMNmnHbYdWGi",
        "colab": {
          "base_uri": "https://localhost:8080/",
          "height": 655
        },
        "outputId": "35258296-8810-4dcc-a8a2-bf1ae00e17a9"
      },
      "source": [
        "fig = plt.subplots(figsize=(20, 8))\n",
        "tree.plot_tree(dt, fontsize=12)"
      ],
      "execution_count": null,
      "outputs": [
        {
          "output_type": "execute_result",
          "data": {
            "text/plain": [
              "[Text(558.0, 380.52, 'X[4] <= 0.149\\nentropy = 0.794\\nsamples = 4352\\nvalue = [3310, 1042]'),\n",
              " Text(279.0, 271.8, 'X[6] <= -1.102\\nentropy = 0.197\\nsamples = 3172\\nvalue = [3075, 97]'),\n",
              " Text(139.5, 163.07999999999998, 'X[4] <= -0.239\\nentropy = 0.915\\nsamples = 103\\nvalue = [34, 69]'),\n",
              " Text(69.75, 54.360000000000014, 'entropy = 0.792\\nsamples = 42\\nvalue = [32, 10]'),\n",
              " Text(209.25, 54.360000000000014, 'entropy = 0.208\\nsamples = 61\\nvalue = [2, 59]'),\n",
              " Text(418.5, 163.07999999999998, 'X[6] <= -0.43\\nentropy = 0.075\\nsamples = 3069\\nvalue = [3041, 28]'),\n",
              " Text(348.75, 54.360000000000014, 'entropy = 0.298\\nsamples = 379\\nvalue = [359, 20]'),\n",
              " Text(488.25, 54.360000000000014, 'entropy = 0.029\\nsamples = 2690\\nvalue = [2682, 8]'),\n",
              " Text(837.0, 271.8, 'X[6] <= -0.466\\nentropy = 0.72\\nsamples = 1180\\nvalue = [235, 945]'),\n",
              " Text(697.5, 163.07999999999998, 'X[7] <= -0.638\\nentropy = 0.127\\nsamples = 856\\nvalue = [15, 841]'),\n",
              " Text(627.75, 54.360000000000014, 'entropy = 0.696\\nsamples = 16\\nvalue = [13, 3]'),\n",
              " Text(767.25, 54.360000000000014, 'entropy = 0.024\\nsamples = 840\\nvalue = [2, 838]'),\n",
              " Text(976.5, 163.07999999999998, 'X[1] <= 0.488\\nentropy = 0.905\\nsamples = 324\\nvalue = [220, 104]'),\n",
              " Text(906.75, 54.360000000000014, 'entropy = 0.345\\nsamples = 202\\nvalue = [189, 13]'),\n",
              " Text(1046.25, 54.360000000000014, 'entropy = 0.818\\nsamples = 122\\nvalue = [31, 91]')]"
            ]
          },
          "metadata": {
            "tags": []
          },
          "execution_count": 22
        },
        {
          "output_type": "display_data",
          "data": {
            "image/png": "[encoded data removed]",
            "text/plain": [
              "<Figure size 1440x576 with 1 Axes>"
            ]
          },
          "metadata": {
            "tags": [],
            "needs_background": "light"
          }
        }
      ]
    }
  ]
}